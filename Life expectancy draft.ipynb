{
 "cells": [
  {
   "cell_type": "code",
   "execution_count": 1,
   "metadata": {
    "collapsed": true
   },
   "outputs": [],
   "source": [
    "import numpy as np\n",
    "from pandas import Series, DataFrame\n",
    "import pandas as pd\n",
    "import statistics as stats"
   ]
  },
  {
   "cell_type": "code",
   "execution_count": 2,
   "metadata": {
    "collapsed": false
   },
   "outputs": [],
   "source": [
    "# Life expectancy (http://apps.who.int/gho/data/node.main.688?lang=en) - chosen 2015\n",
    "url = \"http://apps.who.int/gho/athena/data/xmart.csv?target=GHO/WHOSIS_000001,WHOSIS_000015&profile=crosstable&filter=COUNTRY:*&x-sideaxis=COUNTRY;YEAR&x-topaxis=GHO;SEX\"\n",
    "life = pd.read_csv(url) \n",
    "life = life.ix[1:,0:3]\n",
    "life.columns = ['Country', 'Year', 'LifeExpectancy']\n",
    "life['Year'] = life['Year'].apply(lambda x: pd.to_numeric(x, errors ='coerce')) \n",
    "life['LifeExpectancy'] = life['LifeExpectancy'].apply(lambda x: pd.to_numeric(x, errors ='coerce')) \n",
    "life = life.loc[life['Year'] == 2015]\n",
    "del life['Year']"
   ]
  },
  {
   "cell_type": "code",
   "execution_count": 3,
   "metadata": {
    "collapsed": false
   },
   "outputs": [
    {
     "data": {
      "text/html": [
       "<div>\n",
       "<table border=\"1\" class=\"dataframe\">\n",
       "  <thead>\n",
       "    <tr style=\"text-align: right;\">\n",
       "      <th></th>\n",
       "      <th>Country</th>\n",
       "      <th>LifeExpectancy</th>\n",
       "    </tr>\n",
       "  </thead>\n",
       "  <tbody>\n",
       "    <tr>\n",
       "      <th>1</th>\n",
       "      <td>Afghanistan</td>\n",
       "      <td>60.5</td>\n",
       "    </tr>\n",
       "    <tr>\n",
       "      <th>17</th>\n",
       "      <td>Albania</td>\n",
       "      <td>77.8</td>\n",
       "    </tr>\n",
       "    <tr>\n",
       "      <th>33</th>\n",
       "      <td>Algeria</td>\n",
       "      <td>75.6</td>\n",
       "    </tr>\n",
       "    <tr>\n",
       "      <th>50</th>\n",
       "      <td>Angola</td>\n",
       "      <td>52.4</td>\n",
       "    </tr>\n",
       "    <tr>\n",
       "      <th>66</th>\n",
       "      <td>Antigua and Barbuda</td>\n",
       "      <td>76.4</td>\n",
       "    </tr>\n",
       "  </tbody>\n",
       "</table>\n",
       "</div>"
      ],
      "text/plain": [
       "                Country  LifeExpectancy\n",
       "1           Afghanistan            60.5\n",
       "17              Albania            77.8\n",
       "33              Algeria            75.6\n",
       "50               Angola            52.4\n",
       "66  Antigua and Barbuda            76.4"
      ]
     },
     "execution_count": 3,
     "metadata": {},
     "output_type": "execute_result"
    }
   ],
   "source": [
    "life.head(5)"
   ]
  },
  {
   "cell_type": "code",
   "execution_count": 4,
   "metadata": {
    "collapsed": false
   },
   "outputs": [
    {
     "data": {
      "text/plain": [
       "Country            object\n",
       "LifeExpectancy    float64\n",
       "dtype: object"
      ]
     },
     "execution_count": 4,
     "metadata": {},
     "output_type": "execute_result"
    }
   ],
   "source": [
    "life.dtypes"
   ]
  },
  {
   "cell_type": "code",
   "execution_count": 5,
   "metadata": {
    "collapsed": false
   },
   "outputs": [],
   "source": [
    "# Smoking status (http://apps.who.int/gho/data/node.main.1250?lang=en) - 2013, only value\n",
    "url = \"http://apps.who.int/gho/athena/data/xmart.csv?target=GHO/M_Est_tob_curr,M_Est_tob_daily,M_Est_cig_curr,M_Est_cig_daily&profile=crosstable&filter=COUNTRY:*;SEX:*&x-sideaxis=COUNTRY;YEAR&x-topaxis=GHO;SEX\"\n",
    "smoking = pd.read_csv(url)\n",
    "smoking = smoking.ix[1:,0:3]\n",
    "del smoking['Unnamed: 1']\n",
    "smoking.columns = ['Country', 'Smoking']\n",
    "smoking['Smoking'] = smoking['Smoking'].apply(lambda x: pd.to_numeric(x, errors ='coerce')) "
   ]
  },
  {
   "cell_type": "code",
   "execution_count": 6,
   "metadata": {
    "collapsed": false
   },
   "outputs": [
    {
     "data": {
      "text/html": [
       "<div>\n",
       "<table border=\"1\" class=\"dataframe\">\n",
       "  <thead>\n",
       "    <tr style=\"text-align: right;\">\n",
       "      <th></th>\n",
       "      <th>Country</th>\n",
       "      <th>Smoking</th>\n",
       "    </tr>\n",
       "  </thead>\n",
       "  <tbody>\n",
       "    <tr>\n",
       "      <th>1</th>\n",
       "      <td>Afghanistan</td>\n",
       "      <td>NaN</td>\n",
       "    </tr>\n",
       "    <tr>\n",
       "      <th>2</th>\n",
       "      <td>Albania</td>\n",
       "      <td>29.7</td>\n",
       "    </tr>\n",
       "    <tr>\n",
       "      <th>3</th>\n",
       "      <td>Algeria</td>\n",
       "      <td>NaN</td>\n",
       "    </tr>\n",
       "    <tr>\n",
       "      <th>4</th>\n",
       "      <td>Andorra</td>\n",
       "      <td>33.1</td>\n",
       "    </tr>\n",
       "    <tr>\n",
       "      <th>5</th>\n",
       "      <td>Angola</td>\n",
       "      <td>NaN</td>\n",
       "    </tr>\n",
       "  </tbody>\n",
       "</table>\n",
       "</div>"
      ],
      "text/plain": [
       "       Country  Smoking\n",
       "1  Afghanistan      NaN\n",
       "2      Albania     29.7\n",
       "3      Algeria      NaN\n",
       "4      Andorra     33.1\n",
       "5       Angola      NaN"
      ]
     },
     "execution_count": 6,
     "metadata": {},
     "output_type": "execute_result"
    }
   ],
   "source": [
    "smoking.head(5)"
   ]
  },
  {
   "cell_type": "code",
   "execution_count": 7,
   "metadata": {
    "collapsed": false
   },
   "outputs": [
    {
     "data": {
      "text/plain": [
       "Country      0\n",
       "AlcType      0\n",
       "2015       964\n",
       "2014       504\n",
       "2013       339\n",
       "2012       342\n",
       "2011        54\n",
       "2010        16\n",
       "2009        14\n",
       "2008        14\n",
       "2007        14\n",
       "2006         9\n",
       "2005         8\n",
       "2004        14\n",
       "2003        14\n",
       "2002        19\n",
       "2001        19\n",
       "2000        18\n",
       "dtype: int64"
      ]
     },
     "execution_count": 7,
     "metadata": {},
     "output_type": "execute_result"
    }
   ],
   "source": [
    "# Alcohol (http://apps.who.int/gho/data/node.main.A1026?lang=en) - 2010 was used\n",
    "url = \"http://apps.who.int/gho/athena/data/xmart.csv?target=GHO/SA_0000001400&profile=crosstable&filter=COUNTRY:*;YEAR:2015;YEAR:2x014;YEAR:2013;YEAR:2012;YEAR:2011;YEAR:2010;YEAR:2009;YEAR:2008;YEAR:2007;YEAR:2006;YEAR:2005;YEAR:2004;YEAR:2003;YEAR:2002;YEAR:2001;YEAR:2000&x-sideaxis=COUNTRY;DATASOURCE;ALCOHOLTYPE&x-topaxis=GHO;YEAR\"\n",
    "alcohol = pd.read_csv(url)\n",
    "del alcohol['Unnamed: 1']\n",
    "alcohol = alcohol.ix[1:]\n",
    "alcohol.columns = ['Country', 'AlcType', '2015', '2014', '2013', '2012', '2011', '2010', '2009', '2008',\n",
    "                  '2007', '2006', '2005', '2004', '2003', '2002', '2001', '2000']\n",
    "alcohol.head(5)\n",
    "alcohol.isnull().sum() # Finding most complete recent year - 2010 looks like it"
   ]
  },
  {
   "cell_type": "code",
   "execution_count": 8,
   "metadata": {
    "collapsed": false
   },
   "outputs": [],
   "source": [
    "alcohol.ix[:, 7:] = alcohol.ix[:, 7:].apply(lambda x: pd.to_numeric(x, errors ='coerce')) \n",
    "alcohol = pd.melt(alcohol, id_vars=['Country', 'AlcType'], \n",
    "                  value_vars=['2015', '2014', '2013', '2012', '2011', '2010', '2009', '2008',\n",
    "                              '2007', '2006', '2005', '2004', '2003', '2002', '2001', '2000'])"
   ]
  },
  {
   "cell_type": "code",
   "execution_count": 9,
   "metadata": {
    "collapsed": false
   },
   "outputs": [
    {
     "data": {
      "text/html": [
       "<div>\n",
       "<table border=\"1\" class=\"dataframe\">\n",
       "  <thead>\n",
       "    <tr style=\"text-align: right;\">\n",
       "      <th></th>\n",
       "      <th>Country</th>\n",
       "      <th>AlcConsumption</th>\n",
       "    </tr>\n",
       "  </thead>\n",
       "  <tbody>\n",
       "    <tr>\n",
       "      <th>4920</th>\n",
       "      <td>Afghanistan</td>\n",
       "      <td>0.01</td>\n",
       "    </tr>\n",
       "    <tr>\n",
       "      <th>4925</th>\n",
       "      <td>Albania</td>\n",
       "      <td>5.28</td>\n",
       "    </tr>\n",
       "    <tr>\n",
       "      <th>4930</th>\n",
       "      <td>Algeria</td>\n",
       "      <td>0.45</td>\n",
       "    </tr>\n",
       "    <tr>\n",
       "      <th>4935</th>\n",
       "      <td>Andorra</td>\n",
       "      <td>10.60</td>\n",
       "    </tr>\n",
       "    <tr>\n",
       "      <th>4940</th>\n",
       "      <td>Angola</td>\n",
       "      <td>7.80</td>\n",
       "    </tr>\n",
       "  </tbody>\n",
       "</table>\n",
       "</div>"
      ],
      "text/plain": [
       "          Country  AlcConsumption\n",
       "4920  Afghanistan            0.01\n",
       "4925      Albania            5.28\n",
       "4930      Algeria            0.45\n",
       "4935      Andorra           10.60\n",
       "4940       Angola            7.80"
      ]
     },
     "execution_count": 9,
     "metadata": {},
     "output_type": "execute_result"
    }
   ],
   "source": [
    "alcohol.columns = ['Country', 'AlcType', 'Year', 'AlcConsumption']\n",
    "alcohol['Year'] = alcohol['Year'].apply(lambda x: pd.to_numeric(x, errors ='coerce')) \n",
    "alcohol = alcohol.loc[alcohol['Year'] == 2010]\n",
    "alcohol = alcohol[alcohol['AlcType'].str.contains(\"All types\")]\n",
    "del alcohol['AlcType']\n",
    "del alcohol['Year']\n",
    "alcohol.head(5)"
   ]
  },
  {
   "cell_type": "code",
   "execution_count": 10,
   "metadata": {
    "collapsed": false
   },
   "outputs": [],
   "source": [
    "# Overweight (http://apps.who.int/gho/data/node.main.A897A?lang=en) - 2014 used\n",
    "url = \"http://apps.who.int/gho/athena/data/xmart.csv?target=GHO/NCD_BMI_25A&profile=crosstable&filter=AGEGROUP:*;COUNTRY:*;SEX:*&x-sideaxis=COUNTRY&x-topaxis=GHO;YEAR;AGEGROUP;SEX\"\n",
    "oweight = pd.read_csv(url)\n",
    "oweight = oweight.ix[3:,0:2]\n",
    "oweight.columns = ['Country', 'Overweight']\n",
    "\n",
    "oweight['Overweight'] = oweight['Overweight'].apply(lambda x: x.split(' [')[0])\n",
    "oweight['Overweight'] = oweight['Overweight'].apply(lambda x: pd.to_numeric(x, errors ='coerce')) "
   ]
  },
  {
   "cell_type": "code",
   "execution_count": 11,
   "metadata": {
    "collapsed": false
   },
   "outputs": [
    {
     "data": {
      "text/html": [
       "<div>\n",
       "<table border=\"1\" class=\"dataframe\">\n",
       "  <thead>\n",
       "    <tr style=\"text-align: right;\">\n",
       "      <th></th>\n",
       "      <th>Country</th>\n",
       "      <th>Overweight</th>\n",
       "    </tr>\n",
       "  </thead>\n",
       "  <tbody>\n",
       "    <tr>\n",
       "      <th>3</th>\n",
       "      <td>Afghanistan</td>\n",
       "      <td>16.2</td>\n",
       "    </tr>\n",
       "    <tr>\n",
       "      <th>4</th>\n",
       "      <td>Albania</td>\n",
       "      <td>52.7</td>\n",
       "    </tr>\n",
       "    <tr>\n",
       "      <th>5</th>\n",
       "      <td>Algeria</td>\n",
       "      <td>59.1</td>\n",
       "    </tr>\n",
       "    <tr>\n",
       "      <th>6</th>\n",
       "      <td>Andorra</td>\n",
       "      <td>66.9</td>\n",
       "    </tr>\n",
       "    <tr>\n",
       "      <th>7</th>\n",
       "      <td>Angola</td>\n",
       "      <td>30.9</td>\n",
       "    </tr>\n",
       "  </tbody>\n",
       "</table>\n",
       "</div>"
      ],
      "text/plain": [
       "       Country  Overweight\n",
       "3  Afghanistan        16.2\n",
       "4      Albania        52.7\n",
       "5      Algeria        59.1\n",
       "6      Andorra        66.9\n",
       "7       Angola        30.9"
      ]
     },
     "execution_count": 11,
     "metadata": {},
     "output_type": "execute_result"
    }
   ],
   "source": [
    "oweight.head(5)"
   ]
  },
  {
   "cell_type": "code",
   "execution_count": 12,
   "metadata": {
    "collapsed": false
   },
   "outputs": [],
   "source": [
    "# Physical activity (http://apps.who.int/gho/data/node.main.A893?lang=en) - \n",
    "url = \"http://apps.who.int/gho/athena/data/xmart.csv?target=GHO/NCD_PAC,NCD_PAA&profile=crosstable&filter=AGEGROUP:YEARS18-PLUS;COUNTRY:*;SEX:*;&x-sideaxis=COUNTRY;YEAR;AGEGROUP&x-topaxis=GHO;SEX\"\n",
    "exercise = pd.read_csv(url)\n",
    "del exercise['Unnamed: 2']\n",
    "exercise = exercise.ix[1:, :3]\n",
    "exercise.columns = ['Country', 'Year', 'LowExercise']\n",
    "del exercise['Year']\n",
    "\n",
    "exercise['LowExercise'] = exercise['LowExercise'].apply(lambda x: x.split(' [')[0])\n",
    "exercise['LowExercise'] = exercise['LowExercise'].apply(lambda x: pd.to_numeric(x, errors ='coerce')) "
   ]
  },
  {
   "cell_type": "code",
   "execution_count": 13,
   "metadata": {
    "collapsed": false
   },
   "outputs": [
    {
     "data": {
      "text/html": [
       "<div>\n",
       "<table border=\"1\" class=\"dataframe\">\n",
       "  <thead>\n",
       "    <tr style=\"text-align: right;\">\n",
       "      <th></th>\n",
       "      <th>Country</th>\n",
       "      <th>LowExercise</th>\n",
       "    </tr>\n",
       "  </thead>\n",
       "  <tbody>\n",
       "    <tr>\n",
       "      <th>1</th>\n",
       "      <td>Afghanistan</td>\n",
       "      <td>NaN</td>\n",
       "    </tr>\n",
       "    <tr>\n",
       "      <th>2</th>\n",
       "      <td>Albania</td>\n",
       "      <td>NaN</td>\n",
       "    </tr>\n",
       "    <tr>\n",
       "      <th>3</th>\n",
       "      <td>Algeria</td>\n",
       "      <td>34.4</td>\n",
       "    </tr>\n",
       "    <tr>\n",
       "      <th>4</th>\n",
       "      <td>Andorra</td>\n",
       "      <td>26.1</td>\n",
       "    </tr>\n",
       "    <tr>\n",
       "      <th>5</th>\n",
       "      <td>Angola</td>\n",
       "      <td>NaN</td>\n",
       "    </tr>\n",
       "  </tbody>\n",
       "</table>\n",
       "</div>"
      ],
      "text/plain": [
       "       Country  LowExercise\n",
       "1  Afghanistan          NaN\n",
       "2      Albania          NaN\n",
       "3      Algeria         34.4\n",
       "4      Andorra         26.1\n",
       "5       Angola          NaN"
      ]
     },
     "execution_count": 13,
     "metadata": {},
     "output_type": "execute_result"
    }
   ],
   "source": [
    "exercise.head(5)"
   ]
  },
  {
   "cell_type": "code",
   "execution_count": 14,
   "metadata": {
    "collapsed": true
   },
   "outputs": [],
   "source": [
    "# Cholesterol (http://apps.who.int/gho/data/node.main.A884?lang=en) - 2008\n",
    "url = \"http://apps.who.int/gho/athena/data/xmart.csv?target=GHO/CHOL_01,CHOL_02&profile=crosstable&filter=AGEGROUP:*;COUNTRY:*;SEX:*&x-sideaxis=COUNTRY;YEAR;AGEGROUP&x-topaxis=GHO;SEX\"\n",
    "chol = pd.read_csv(url)\n",
    "del chol['Unnamed: 2']\n",
    "chol = chol.ix[1:, :3]\n",
    "chol.columns = ['Country', 'Year', 'Cholesterol']\n",
    "del chol['Year']\n",
    "\n",
    "chol['Cholesterol'] = chol['Cholesterol'].apply(lambda x: x.split(' [')[0])\n",
    "chol['Cholesterol'] = chol['Cholesterol'].apply(lambda x: pd.to_numeric(x, errors ='coerce')) "
   ]
  },
  {
   "cell_type": "code",
   "execution_count": 15,
   "metadata": {
    "collapsed": false
   },
   "outputs": [
    {
     "data": {
      "text/html": [
       "<div>\n",
       "<table border=\"1\" class=\"dataframe\">\n",
       "  <thead>\n",
       "    <tr style=\"text-align: right;\">\n",
       "      <th></th>\n",
       "      <th>Country</th>\n",
       "      <th>Cholesterol</th>\n",
       "    </tr>\n",
       "  </thead>\n",
       "  <tbody>\n",
       "    <tr>\n",
       "      <th>1</th>\n",
       "      <td>Afghanistan</td>\n",
       "      <td>21.9</td>\n",
       "    </tr>\n",
       "    <tr>\n",
       "      <th>2</th>\n",
       "      <td>Albania</td>\n",
       "      <td>45.3</td>\n",
       "    </tr>\n",
       "    <tr>\n",
       "      <th>3</th>\n",
       "      <td>Algeria</td>\n",
       "      <td>39.4</td>\n",
       "    </tr>\n",
       "    <tr>\n",
       "      <th>4</th>\n",
       "      <td>Andorra</td>\n",
       "      <td>67.1</td>\n",
       "    </tr>\n",
       "    <tr>\n",
       "      <th>5</th>\n",
       "      <td>Angola</td>\n",
       "      <td>30.9</td>\n",
       "    </tr>\n",
       "  </tbody>\n",
       "</table>\n",
       "</div>"
      ],
      "text/plain": [
       "       Country  Cholesterol\n",
       "1  Afghanistan         21.9\n",
       "2      Albania         45.3\n",
       "3      Algeria         39.4\n",
       "4      Andorra         67.1\n",
       "5       Angola         30.9"
      ]
     },
     "execution_count": 15,
     "metadata": {},
     "output_type": "execute_result"
    }
   ],
   "source": [
    "chol.head(5)"
   ]
  },
  {
   "cell_type": "code",
   "execution_count": 16,
   "metadata": {
    "collapsed": true
   },
   "outputs": [],
   "source": [
    "# Blood sugar (http://apps.who.int/gho/data/node.main.A869?lang=en) - 2014\n",
    "url = \"http://apps.who.int/gho/athena/data/xmart.csv?target=GHO/NCD_GLUC_03,NCD_GLUC_04&profile=crosstable&filter=AGEGROUP:*;COUNTRY:*;SEX:*&x-sideaxis=COUNTRY;YEAR;AGEGROUP&x-topaxis=GHO;SEX\"\n",
    "bsugar = pd.read_csv(url)\n",
    "del bsugar['Unnamed: 2']\n",
    "bsugar = bsugar.ix[1:, :3]\n",
    "bsugar.columns = ['Country', 'Year', 'BloodSugar']\n",
    "\n",
    "bsugar['BloodSugar'] = bsugar['BloodSugar'].apply(lambda x: x.split(' [')[0])\n",
    "bsugar['BloodSugar'] = bsugar['BloodSugar'].apply(lambda x: pd.to_numeric(x, errors ='coerce')) \n",
    "bsugar = bsugar.loc[bsugar['Year'].str.contains(\"2014\")]\n",
    "del bsugar['Year']"
   ]
  },
  {
   "cell_type": "code",
   "execution_count": 17,
   "metadata": {
    "collapsed": false
   },
   "outputs": [
    {
     "data": {
      "text/html": [
       "<div>\n",
       "<table border=\"1\" class=\"dataframe\">\n",
       "  <thead>\n",
       "    <tr style=\"text-align: right;\">\n",
       "      <th></th>\n",
       "      <th>Country</th>\n",
       "      <th>BloodSugar</th>\n",
       "    </tr>\n",
       "  </thead>\n",
       "  <tbody>\n",
       "    <tr>\n",
       "      <th>1</th>\n",
       "      <td>Afghanistan</td>\n",
       "      <td>8.4</td>\n",
       "    </tr>\n",
       "    <tr>\n",
       "      <th>3</th>\n",
       "      <td>Albania</td>\n",
       "      <td>8.3</td>\n",
       "    </tr>\n",
       "    <tr>\n",
       "      <th>5</th>\n",
       "      <td>Algeria</td>\n",
       "      <td>10.5</td>\n",
       "    </tr>\n",
       "    <tr>\n",
       "      <th>7</th>\n",
       "      <td>Andorra</td>\n",
       "      <td>9.1</td>\n",
       "    </tr>\n",
       "    <tr>\n",
       "      <th>9</th>\n",
       "      <td>Angola</td>\n",
       "      <td>5.6</td>\n",
       "    </tr>\n",
       "  </tbody>\n",
       "</table>\n",
       "</div>"
      ],
      "text/plain": [
       "       Country  BloodSugar\n",
       "1  Afghanistan         8.4\n",
       "3      Albania         8.3\n",
       "5      Algeria        10.5\n",
       "7      Andorra         9.1\n",
       "9       Angola         5.6"
      ]
     },
     "execution_count": 17,
     "metadata": {},
     "output_type": "execute_result"
    }
   ],
   "source": [
    "bsugar.head(5)"
   ]
  },
  {
   "cell_type": "code",
   "execution_count": 18,
   "metadata": {
    "collapsed": false
   },
   "outputs": [],
   "source": [
    "# Unsafe water, sanitation and hygiene (http://apps.who.int/gho/data/node.main.167?lang=en) - used 2015\n",
    "url = \"http://apps.who.int/gho/athena/data/xmart.csv?target=GHO/WHS5_122,WHS5_158&profile=crosstable&filter=COUNTRY:*;RESIDENCEAREATYPE:*&x-sideaxis=COUNTRY;YEAR&x-topaxis=GHO;RESIDENCEAREATYPE\"\n",
    "sanitation = pd.read_csv(url)\n",
    "sanitation = sanitation[['Unnamed: 0', 'Unnamed: 1',\n",
    "                        'Population using improved drinking-water sources (%).2',\n",
    "                        'Population using improved sanitation facilities (%).2']]\n",
    "sanitation = sanitation.ix[1:,]\n",
    "sanitation.columns = ['Country', 'Year', 'ImprovedWater', 'ImprovedSanitation']\n",
    "sanitation['Year'] = sanitation['Year'].apply(lambda x: pd.to_numeric(x, errors ='coerce')) \n",
    "sanitation['ImprovedWater'] = sanitation['ImprovedWater'].apply(lambda x: pd.to_numeric(x, errors ='coerce'))\n",
    "sanitation['ImprovedSanitation'] = sanitation['ImprovedSanitation'].apply(lambda x: pd.to_numeric(x, errors ='coerce'))\n",
    "sanitation = sanitation.loc[sanitation['Year'] == 2015]\n",
    "del sanitation['Year']"
   ]
  },
  {
   "cell_type": "code",
   "execution_count": 19,
   "metadata": {
    "collapsed": false
   },
   "outputs": [
    {
     "data": {
      "text/html": [
       "<div>\n",
       "<table border=\"1\" class=\"dataframe\">\n",
       "  <thead>\n",
       "    <tr style=\"text-align: right;\">\n",
       "      <th></th>\n",
       "      <th>Country</th>\n",
       "      <th>ImprovedWater</th>\n",
       "      <th>ImprovedSanitation</th>\n",
       "    </tr>\n",
       "  </thead>\n",
       "  <tbody>\n",
       "    <tr>\n",
       "      <th>1</th>\n",
       "      <td>Afghanistan</td>\n",
       "      <td>55.3</td>\n",
       "      <td>31.9</td>\n",
       "    </tr>\n",
       "    <tr>\n",
       "      <th>3</th>\n",
       "      <td>Albania</td>\n",
       "      <td>95.1</td>\n",
       "      <td>93.2</td>\n",
       "    </tr>\n",
       "    <tr>\n",
       "      <th>6</th>\n",
       "      <td>Algeria</td>\n",
       "      <td>83.6</td>\n",
       "      <td>87.6</td>\n",
       "    </tr>\n",
       "    <tr>\n",
       "      <th>9</th>\n",
       "      <td>Andorra</td>\n",
       "      <td>100.0</td>\n",
       "      <td>100.0</td>\n",
       "    </tr>\n",
       "    <tr>\n",
       "      <th>12</th>\n",
       "      <td>Angola</td>\n",
       "      <td>49.0</td>\n",
       "      <td>51.6</td>\n",
       "    </tr>\n",
       "  </tbody>\n",
       "</table>\n",
       "</div>"
      ],
      "text/plain": [
       "        Country  ImprovedWater  ImprovedSanitation\n",
       "1   Afghanistan           55.3                31.9\n",
       "3       Albania           95.1                93.2\n",
       "6       Algeria           83.6                87.6\n",
       "9       Andorra          100.0               100.0\n",
       "12       Angola           49.0                51.6"
      ]
     },
     "execution_count": 19,
     "metadata": {},
     "output_type": "execute_result"
    }
   ],
   "source": [
    "sanitation.head(5)"
   ]
  },
  {
   "cell_type": "code",
   "execution_count": 20,
   "metadata": {
    "collapsed": false
   },
   "outputs": [],
   "source": [
    "# Maternal deaths (http://apps.who.int/gho/data/node.main.MATMORT?lang=en) - used 2015\n",
    "url = \"http://apps.who.int/gho/athena/data/xmart.csv?target=GHO/MDG_0000000026,MORT_MATERNALNUM&profile=crosstable&filter=COUNTRY:*;REGION:*&x-sideaxis=COUNTRY;YEAR&x-topaxis=GHO\"\n",
    "maternal = pd.read_csv(url)\n",
    "maternal = maternal.ix[:, :3]\n",
    "maternal.columns = ['Country', 'Year', 'MaternalDeaths']\n",
    "\n",
    "maternal['MaternalDeaths'] = maternal['MaternalDeaths'].str.replace(' ', '')\n",
    "maternal['MaternalDeaths'] = maternal['MaternalDeaths'].apply(lambda x: x.split('[')[0])\n",
    "maternal['MaternalDeaths'] = maternal['MaternalDeaths'].apply(lambda x: pd.to_numeric(x, errors ='coerce')) \n",
    "\n",
    "maternal['Year'] = maternal['Year'].apply(lambda x: pd.to_numeric(x, errors ='coerce')) \n",
    "maternal = maternal.loc[maternal['Year'] == 2015]\n",
    "del maternal['Year']"
   ]
  },
  {
   "cell_type": "code",
   "execution_count": 21,
   "metadata": {
    "collapsed": false
   },
   "outputs": [
    {
     "data": {
      "text/html": [
       "<div>\n",
       "<table border=\"1\" class=\"dataframe\">\n",
       "  <thead>\n",
       "    <tr style=\"text-align: right;\">\n",
       "      <th></th>\n",
       "      <th>Country</th>\n",
       "      <th>MaternalDeaths</th>\n",
       "    </tr>\n",
       "  </thead>\n",
       "  <tbody>\n",
       "    <tr>\n",
       "      <th>0</th>\n",
       "      <td>Afghanistan</td>\n",
       "      <td>396</td>\n",
       "    </tr>\n",
       "    <tr>\n",
       "      <th>3</th>\n",
       "      <td>Albania</td>\n",
       "      <td>29</td>\n",
       "    </tr>\n",
       "    <tr>\n",
       "      <th>6</th>\n",
       "      <td>Algeria</td>\n",
       "      <td>140</td>\n",
       "    </tr>\n",
       "    <tr>\n",
       "      <th>9</th>\n",
       "      <td>Angola</td>\n",
       "      <td>477</td>\n",
       "    </tr>\n",
       "    <tr>\n",
       "      <th>12</th>\n",
       "      <td>Argentina</td>\n",
       "      <td>52</td>\n",
       "    </tr>\n",
       "  </tbody>\n",
       "</table>\n",
       "</div>"
      ],
      "text/plain": [
       "        Country  MaternalDeaths\n",
       "0   Afghanistan             396\n",
       "3       Albania              29\n",
       "6       Algeria             140\n",
       "9        Angola             477\n",
       "12    Argentina              52"
      ]
     },
     "execution_count": 21,
     "metadata": {},
     "output_type": "execute_result"
    }
   ],
   "source": [
    "maternal.head(5)"
   ]
  },
  {
   "cell_type": "code",
   "execution_count": 22,
   "metadata": {
    "collapsed": true
   },
   "outputs": [],
   "source": [
    "# UV radiation exposure (http://apps.who.int/gho/data/node.main.164?lang=en)\n",
    "url = \"http://apps.who.int/gho/athena/data/xmart.csv?target=GHO/UV_1&profile=crosstable&filter=COUNTRY:*;REGION:*&x-sideaxis=COUNTRY&x-topaxis=GHO;YEAR\"\n",
    "uvrad = pd.read_csv(url)\n",
    "uvrad = uvrad.ix[1:, ]\n",
    "uvrad.columns = ['Country', 'UVRadiation']"
   ]
  },
  {
   "cell_type": "code",
   "execution_count": 23,
   "metadata": {
    "collapsed": false
   },
   "outputs": [
    {
     "data": {
      "text/html": [
       "<div>\n",
       "<table border=\"1\" class=\"dataframe\">\n",
       "  <thead>\n",
       "    <tr style=\"text-align: right;\">\n",
       "      <th></th>\n",
       "      <th>Country</th>\n",
       "      <th>UVRadiation</th>\n",
       "    </tr>\n",
       "  </thead>\n",
       "  <tbody>\n",
       "    <tr>\n",
       "      <th>1</th>\n",
       "      <td>Afghanistan</td>\n",
       "      <td>4132</td>\n",
       "    </tr>\n",
       "    <tr>\n",
       "      <th>2</th>\n",
       "      <td>Albania</td>\n",
       "      <td>2542</td>\n",
       "    </tr>\n",
       "    <tr>\n",
       "      <th>3</th>\n",
       "      <td>Algeria</td>\n",
       "      <td>3253</td>\n",
       "    </tr>\n",
       "    <tr>\n",
       "      <th>4</th>\n",
       "      <td>Andorra</td>\n",
       "      <td>2469</td>\n",
       "    </tr>\n",
       "    <tr>\n",
       "      <th>5</th>\n",
       "      <td>Angola</td>\n",
       "      <td>5287</td>\n",
       "    </tr>\n",
       "  </tbody>\n",
       "</table>\n",
       "</div>"
      ],
      "text/plain": [
       "       Country  UVRadiation\n",
       "1  Afghanistan         4132\n",
       "2      Albania         2542\n",
       "3      Algeria         3253\n",
       "4      Andorra         2469\n",
       "5       Angola         5287"
      ]
     },
     "execution_count": 23,
     "metadata": {},
     "output_type": "execute_result"
    }
   ],
   "source": [
    "uvrad.head(5)"
   ]
  },
  {
   "cell_type": "code",
   "execution_count": 24,
   "metadata": {
    "collapsed": true
   },
   "outputs": [],
   "source": [
    "# Homicide (http://apps.who.int/gho/data/node.main.VIOLENCEHOMICIDE?lang=en)\n",
    "url = \"http://apps.who.int/gho/athena/data/xmart.csv?target=GHO/VIOLENCE_HOMICIDENUM,VIOLENCE_HOMICIDERATE&profile=crosstable&filter=COUNTRY:*;AGEGROUP:-;SEX:-&x-sideaxis=COUNTRY&x-topaxis=GHO;YEAR\"\n",
    "homicides = pd.read_csv(url)\n",
    "del homicides['Estimates of number of homicides']\n",
    "homicides = homicides.ix[1:,]\n",
    "homicides.columns = ['Country', 'HomicideRate']\n",
    "\n",
    "homicides['HomicideRate'] = homicides['HomicideRate'].apply(lambda x: x.split('[')[0])\n",
    "homicides['HomicideRate'] = homicides['HomicideRate'].apply(lambda x: pd.to_numeric(x, errors ='coerce')) "
   ]
  },
  {
   "cell_type": "code",
   "execution_count": 25,
   "metadata": {
    "collapsed": false
   },
   "outputs": [
    {
     "data": {
      "text/html": [
       "<div>\n",
       "<table border=\"1\" class=\"dataframe\">\n",
       "  <thead>\n",
       "    <tr style=\"text-align: right;\">\n",
       "      <th></th>\n",
       "      <th>Country</th>\n",
       "      <th>HomicideRate</th>\n",
       "    </tr>\n",
       "  </thead>\n",
       "  <tbody>\n",
       "    <tr>\n",
       "      <th>1</th>\n",
       "      <td>Afghanistan</td>\n",
       "      <td>7.3</td>\n",
       "    </tr>\n",
       "    <tr>\n",
       "      <th>2</th>\n",
       "      <td>Albania</td>\n",
       "      <td>5.0</td>\n",
       "    </tr>\n",
       "    <tr>\n",
       "      <th>3</th>\n",
       "      <td>Algeria</td>\n",
       "      <td>4.4</td>\n",
       "    </tr>\n",
       "    <tr>\n",
       "      <th>4</th>\n",
       "      <td>Andorra</td>\n",
       "      <td>0.8</td>\n",
       "    </tr>\n",
       "    <tr>\n",
       "      <th>5</th>\n",
       "      <td>Angola</td>\n",
       "      <td>10.7</td>\n",
       "    </tr>\n",
       "  </tbody>\n",
       "</table>\n",
       "</div>"
      ],
      "text/plain": [
       "       Country  HomicideRate\n",
       "1  Afghanistan           7.3\n",
       "2      Albania           5.0\n",
       "3      Algeria           4.4\n",
       "4      Andorra           0.8\n",
       "5       Angola          10.7"
      ]
     },
     "execution_count": 25,
     "metadata": {},
     "output_type": "execute_result"
    }
   ],
   "source": [
    "homicides.head(5)"
   ]
  },
  {
   "cell_type": "code",
   "execution_count": 26,
   "metadata": {
    "collapsed": true
   },
   "outputs": [],
   "source": [
    "# Road traffic deaths (http://apps.who.int/gho/data/node.main.A997?lang=en)\n",
    "url = \"http://apps.who.int/gho/athena/data/xmart.csv?target=GHO/RS_196,RS_198&profile=crosstable&filter=COUNTRY:*&x-sideaxis=COUNTRY&x-topaxis=GHO;YEAR\"\n",
    "traffdeath = pd.read_csv(url)\n",
    "del traffdeath['Estimated number of road traffic deaths']\n",
    "traffdeath = traffdeath.ix[1:,]\n",
    "traffdeath.columns = ['Country', 'TrafficDeaths']"
   ]
  },
  {
   "cell_type": "code",
   "execution_count": 27,
   "metadata": {
    "collapsed": false
   },
   "outputs": [
    {
     "data": {
      "text/html": [
       "<div>\n",
       "<table border=\"1\" class=\"dataframe\">\n",
       "  <thead>\n",
       "    <tr style=\"text-align: right;\">\n",
       "      <th></th>\n",
       "      <th>Country</th>\n",
       "      <th>TrafficDeaths</th>\n",
       "    </tr>\n",
       "  </thead>\n",
       "  <tbody>\n",
       "    <tr>\n",
       "      <th>1</th>\n",
       "      <td>Afghanistan</td>\n",
       "      <td>15.5</td>\n",
       "    </tr>\n",
       "    <tr>\n",
       "      <th>2</th>\n",
       "      <td>Albania</td>\n",
       "      <td>15.1</td>\n",
       "    </tr>\n",
       "    <tr>\n",
       "      <th>3</th>\n",
       "      <td>Algeria</td>\n",
       "      <td>23.8</td>\n",
       "    </tr>\n",
       "    <tr>\n",
       "      <th>4</th>\n",
       "      <td>Andorra</td>\n",
       "      <td>7.6</td>\n",
       "    </tr>\n",
       "    <tr>\n",
       "      <th>5</th>\n",
       "      <td>Angola</td>\n",
       "      <td>26.9</td>\n",
       "    </tr>\n",
       "  </tbody>\n",
       "</table>\n",
       "</div>"
      ],
      "text/plain": [
       "       Country  TrafficDeaths\n",
       "1  Afghanistan           15.5\n",
       "2      Albania           15.1\n",
       "3      Algeria           23.8\n",
       "4      Andorra            7.6\n",
       "5       Angola           26.9"
      ]
     },
     "execution_count": 27,
     "metadata": {},
     "output_type": "execute_result"
    }
   ],
   "source": [
    "traffdeath.head(5)"
   ]
  },
  {
   "cell_type": "code",
   "execution_count": 28,
   "metadata": {
    "collapsed": false
   },
   "outputs": [],
   "source": [
    "# Malaria (http://apps.who.int/gho/data/view.main.14111?lang=en)\n",
    "url = \"http://apps.who.int/gho/athena/data/xmart.csv?target=GHO/MALARIA002&profile=crosstable&filter=COUNTRY:*&x-sideaxis=COUNTRY&x-topaxis=GHO;YEAR\"\n",
    "malaria = pd.read_csv(url)\n",
    "malaria = malaria.ix[1:, :2]\n",
    "malaria.columns = ['Country', 'Malaria']\n",
    "\n",
    "malaria['Malaria'] = malaria['Malaria'].str.replace(' ', '')\n",
    "malaria['Malaria'] = malaria['Malaria'].str.replace('&lt;', '')\n",
    "malaria['Malaria'] = malaria['Malaria'].apply(lambda x: x.split('[')[0])\n",
    "malaria['Malaria'] = malaria['Malaria'].apply(lambda x: pd.to_numeric(x, errors ='coerce')) "
   ]
  },
  {
   "cell_type": "code",
   "execution_count": 29,
   "metadata": {
    "collapsed": false
   },
   "outputs": [
    {
     "data": {
      "text/html": [
       "<div>\n",
       "<table border=\"1\" class=\"dataframe\">\n",
       "  <thead>\n",
       "    <tr style=\"text-align: right;\">\n",
       "      <th></th>\n",
       "      <th>Country</th>\n",
       "      <th>Malaria</th>\n",
       "    </tr>\n",
       "  </thead>\n",
       "  <tbody>\n",
       "    <tr>\n",
       "      <th>1</th>\n",
       "      <td>Afghanistan</td>\n",
       "      <td>250000.0</td>\n",
       "    </tr>\n",
       "    <tr>\n",
       "      <th>2</th>\n",
       "      <td>Algeria</td>\n",
       "      <td>50.0</td>\n",
       "    </tr>\n",
       "    <tr>\n",
       "      <th>3</th>\n",
       "      <td>Angola</td>\n",
       "      <td>3400000.0</td>\n",
       "    </tr>\n",
       "    <tr>\n",
       "      <th>4</th>\n",
       "      <td>Argentina</td>\n",
       "      <td>0.0</td>\n",
       "    </tr>\n",
       "    <tr>\n",
       "      <th>5</th>\n",
       "      <td>Armenia</td>\n",
       "      <td>NaN</td>\n",
       "    </tr>\n",
       "  </tbody>\n",
       "</table>\n",
       "</div>"
      ],
      "text/plain": [
       "       Country    Malaria\n",
       "1  Afghanistan   250000.0\n",
       "2      Algeria       50.0\n",
       "3       Angola  3400000.0\n",
       "4    Argentina        0.0\n",
       "5      Armenia        NaN"
      ]
     },
     "execution_count": 29,
     "metadata": {},
     "output_type": "execute_result"
    }
   ],
   "source": [
    "malaria.head(5)"
   ]
  },
  {
   "cell_type": "code",
   "execution_count": 30,
   "metadata": {
    "collapsed": true
   },
   "outputs": [],
   "source": [
    "# Number of people with HIV (http://apps.who.int/gho/data/node.main.620?lang=en)\n",
    "url = \"http://apps.who.int/gho/athena/data/xmart.csv?target=GHO/HIV_0000000001&profile=crosstable&filter=COUNTRY:*;REGION:*&x-sideaxis=COUNTRY&x-topaxis=GHO;YEAR\"\n",
    "hiv = pd.read_csv(url)\n",
    "hiv = hiv.ix[1:, :2]\n",
    "hiv.columns = ['Country', 'HIV']\n",
    "\n",
    "hiv['HIV'] = hiv['HIV'].str.replace(' ', '')\n",
    "hiv['HIV'] = hiv['HIV'].str.replace('&lt;', '')\n",
    "hiv['HIV'] = hiv['HIV'].apply(lambda x: x.split('[')[0])\n",
    "hiv['HIV'] = hiv['HIV'].apply(lambda x: pd.to_numeric(x, errors ='coerce')) "
   ]
  },
  {
   "cell_type": "code",
   "execution_count": 31,
   "metadata": {
    "collapsed": false
   },
   "outputs": [
    {
     "data": {
      "text/html": [
       "<div>\n",
       "<table border=\"1\" class=\"dataframe\">\n",
       "  <thead>\n",
       "    <tr style=\"text-align: right;\">\n",
       "      <th></th>\n",
       "      <th>Country</th>\n",
       "      <th>HIV</th>\n",
       "    </tr>\n",
       "  </thead>\n",
       "  <tbody>\n",
       "    <tr>\n",
       "      <th>1</th>\n",
       "      <td>Afghanistan</td>\n",
       "      <td>6700.0</td>\n",
       "    </tr>\n",
       "    <tr>\n",
       "      <th>2</th>\n",
       "      <td>Albania</td>\n",
       "      <td>NaN</td>\n",
       "    </tr>\n",
       "    <tr>\n",
       "      <th>3</th>\n",
       "      <td>Algeria</td>\n",
       "      <td>11000.0</td>\n",
       "    </tr>\n",
       "    <tr>\n",
       "      <th>4</th>\n",
       "      <td>Andorra</td>\n",
       "      <td>NaN</td>\n",
       "    </tr>\n",
       "    <tr>\n",
       "      <th>5</th>\n",
       "      <td>Angola</td>\n",
       "      <td>300000.0</td>\n",
       "    </tr>\n",
       "  </tbody>\n",
       "</table>\n",
       "</div>"
      ],
      "text/plain": [
       "       Country       HIV\n",
       "1  Afghanistan    6700.0\n",
       "2      Albania       NaN\n",
       "3      Algeria   11000.0\n",
       "4      Andorra       NaN\n",
       "5       Angola  300000.0"
      ]
     },
     "execution_count": 31,
     "metadata": {},
     "output_type": "execute_result"
    }
   ],
   "source": [
    "hiv.head(5)"
   ]
  },
  {
   "cell_type": "code",
   "execution_count": 32,
   "metadata": {
    "collapsed": false
   },
   "outputs": [],
   "source": [
    "# Tuberculosis (http://apps.who.int/gho/data/view.main.57040ALL?lang=en)\n",
    "url = \"http://apps.who.int/gho/athena/data/xmart.csv?target=GHO/MDG_0000000020,TB_e_inc_num,TB_e_inc_tbhiv_100k,TB_e_inc_tbhiv_num&profile=crosstable&filter=COUNTRY:*;REGION:*&x-sideaxis=COUNTRY;YEAR&x-topaxis=GHO\"\n",
    "tb = pd.read_csv(url)\n",
    "tb = tb[['Country', 'Year',\n",
    "                        'Incidence of tuberculosis (per 100 000 population per year)']]\n",
    "tb.columns = ['Country', 'Year', 'Tubercululosis']\n",
    "tb = tb.loc[tb['Year'] == 2014]\n",
    "del tb['Year']\n",
    "\n",
    "tb['Tubercululosis'] = tb['Tubercululosis'].str.replace(' ', '')\n",
    "tb['Tubercululosis'] = tb['Tubercululosis'].str.replace('&lt;', '')\n",
    "tb['Tubercululosis'] = tb['Tubercululosis'].apply(lambda x: x.split('[')[0])\n",
    "tb['Tubercululosis'] = tb['Tubercululosis'].apply(lambda x: pd.to_numeric(x, errors ='coerce')) "
   ]
  },
  {
   "cell_type": "code",
   "execution_count": 33,
   "metadata": {
    "collapsed": false
   },
   "outputs": [
    {
     "data": {
      "text/html": [
       "<div>\n",
       "<table border=\"1\" class=\"dataframe\">\n",
       "  <thead>\n",
       "    <tr style=\"text-align: right;\">\n",
       "      <th></th>\n",
       "      <th>Country</th>\n",
       "      <th>Tubercululosis</th>\n",
       "    </tr>\n",
       "  </thead>\n",
       "  <tbody>\n",
       "    <tr>\n",
       "      <th>0</th>\n",
       "      <td>Afghanistan</td>\n",
       "      <td>189.0</td>\n",
       "    </tr>\n",
       "    <tr>\n",
       "      <th>25</th>\n",
       "      <td>Albania</td>\n",
       "      <td>19.0</td>\n",
       "    </tr>\n",
       "    <tr>\n",
       "      <th>50</th>\n",
       "      <td>Algeria</td>\n",
       "      <td>78.0</td>\n",
       "    </tr>\n",
       "    <tr>\n",
       "      <th>75</th>\n",
       "      <td>Andorra</td>\n",
       "      <td>9.2</td>\n",
       "    </tr>\n",
       "    <tr>\n",
       "      <th>100</th>\n",
       "      <td>Angola</td>\n",
       "      <td>370.0</td>\n",
       "    </tr>\n",
       "  </tbody>\n",
       "</table>\n",
       "</div>"
      ],
      "text/plain": [
       "         Country  Tubercululosis\n",
       "0    Afghanistan           189.0\n",
       "25       Albania            19.0\n",
       "50       Algeria            78.0\n",
       "75       Andorra             9.2\n",
       "100       Angola           370.0"
      ]
     },
     "execution_count": 33,
     "metadata": {},
     "output_type": "execute_result"
    }
   ],
   "source": [
    "tb.head(5)"
   ]
  },
  {
   "cell_type": "code",
   "execution_count": 34,
   "metadata": {
    "collapsed": true
   },
   "outputs": [],
   "source": [
    "# Suicide (http://apps.who.int/gho/data/node.main.MHSUICIDE?lang=en)\n",
    "url = \"http://apps.who.int/gho/athena/data/xmart.csv?target=GHO/MH_12&profile=crosstable&filter=COUNTRY:*;REGION:*&x-sideaxis=COUNTRY&x-topaxis=GHO;YEAR;SEX\"\n",
    "suicide = pd.read_csv(url)\n",
    "suicide = suicide.ix[2:, :2]\n",
    "suicide.columns = ['Country', 'Suicide']\n",
    "suicide['Suicide'] = suicide['Suicide'].apply(lambda x: pd.to_numeric(x, errors ='coerce')) "
   ]
  },
  {
   "cell_type": "code",
   "execution_count": 35,
   "metadata": {
    "collapsed": false
   },
   "outputs": [
    {
     "data": {
      "text/html": [
       "<div>\n",
       "<table border=\"1\" class=\"dataframe\">\n",
       "  <thead>\n",
       "    <tr style=\"text-align: right;\">\n",
       "      <th></th>\n",
       "      <th>Country</th>\n",
       "      <th>Suicide</th>\n",
       "    </tr>\n",
       "  </thead>\n",
       "  <tbody>\n",
       "    <tr>\n",
       "      <th>2</th>\n",
       "      <td>Afghanistan</td>\n",
       "      <td>5.7</td>\n",
       "    </tr>\n",
       "    <tr>\n",
       "      <th>3</th>\n",
       "      <td>Albania</td>\n",
       "      <td>5.9</td>\n",
       "    </tr>\n",
       "    <tr>\n",
       "      <th>4</th>\n",
       "      <td>Algeria</td>\n",
       "      <td>1.9</td>\n",
       "    </tr>\n",
       "    <tr>\n",
       "      <th>5</th>\n",
       "      <td>Angola</td>\n",
       "      <td>13.8</td>\n",
       "    </tr>\n",
       "    <tr>\n",
       "      <th>6</th>\n",
       "      <td>Argentina</td>\n",
       "      <td>10.3</td>\n",
       "    </tr>\n",
       "  </tbody>\n",
       "</table>\n",
       "</div>"
      ],
      "text/plain": [
       "       Country  Suicide\n",
       "2  Afghanistan      5.7\n",
       "3      Albania      5.9\n",
       "4      Algeria      1.9\n",
       "5       Angola     13.8\n",
       "6    Argentina     10.3"
      ]
     },
     "execution_count": 35,
     "metadata": {},
     "output_type": "execute_result"
    }
   ],
   "source": [
    "suicide.head(5)"
   ]
  },
  {
   "cell_type": "code",
   "execution_count": 36,
   "metadata": {
    "collapsed": false
   },
   "outputs": [],
   "source": [
    "def mergeFunc(dataframe1, dataframe2):\n",
    "    return pd.merge(dataframe1, dataframe2, left_on='Country', \n",
    "                    right_on='Country', how='outer')"
   ]
  },
  {
   "cell_type": "code",
   "execution_count": 68,
   "metadata": {
    "collapsed": false
   },
   "outputs": [],
   "source": [
    "totaldf = mergeFunc(life, alcohol)\n",
    "for i in [oweight, chol, bsugar, sanitation, maternal,\n",
    "         uvrad, homicides, traffdeath, tb, suicide]:\n",
    "    totaldf = mergeFunc(totaldf, i)"
   ]
  },
  {
   "cell_type": "code",
   "execution_count": 69,
   "metadata": {
    "collapsed": false
   },
   "outputs": [
    {
     "data": {
      "text/html": [
       "<div>\n",
       "<table border=\"1\" class=\"dataframe\">\n",
       "  <thead>\n",
       "    <tr style=\"text-align: right;\">\n",
       "      <th></th>\n",
       "      <th>Country</th>\n",
       "      <th>LifeExpectancy</th>\n",
       "      <th>AlcConsumption</th>\n",
       "      <th>Overweight</th>\n",
       "      <th>Cholesterol</th>\n",
       "      <th>BloodSugar</th>\n",
       "      <th>ImprovedWater</th>\n",
       "      <th>ImprovedSanitation</th>\n",
       "      <th>MaternalDeaths</th>\n",
       "      <th>UVRadiation</th>\n",
       "      <th>HomicideRate</th>\n",
       "      <th>TrafficDeaths</th>\n",
       "      <th>Tubercululosis</th>\n",
       "      <th>Suicide</th>\n",
       "    </tr>\n",
       "  </thead>\n",
       "  <tbody>\n",
       "    <tr>\n",
       "      <th>0</th>\n",
       "      <td>Afghanistan</td>\n",
       "      <td>60</td>\n",
       "      <td>0.01</td>\n",
       "      <td>16</td>\n",
       "      <td>22</td>\n",
       "      <td>8.4</td>\n",
       "      <td>55</td>\n",
       "      <td>32</td>\n",
       "      <td>4e+02</td>\n",
       "      <td>4.1e+03</td>\n",
       "      <td>7.3</td>\n",
       "      <td>16</td>\n",
       "      <td>1.9e+02</td>\n",
       "      <td>5.7</td>\n",
       "    </tr>\n",
       "    <tr>\n",
       "      <th>1</th>\n",
       "      <td>Albania</td>\n",
       "      <td>78</td>\n",
       "      <td>5.3</td>\n",
       "      <td>53</td>\n",
       "      <td>45</td>\n",
       "      <td>8.3</td>\n",
       "      <td>95</td>\n",
       "      <td>93</td>\n",
       "      <td>29</td>\n",
       "      <td>2.5e+03</td>\n",
       "      <td>5</td>\n",
       "      <td>15</td>\n",
       "      <td>19</td>\n",
       "      <td>5.9</td>\n",
       "    </tr>\n",
       "    <tr>\n",
       "      <th>2</th>\n",
       "      <td>Algeria</td>\n",
       "      <td>76</td>\n",
       "      <td>0.45</td>\n",
       "      <td>59</td>\n",
       "      <td>39</td>\n",
       "      <td>10</td>\n",
       "      <td>84</td>\n",
       "      <td>88</td>\n",
       "      <td>1.4e+02</td>\n",
       "      <td>3.3e+03</td>\n",
       "      <td>4.4</td>\n",
       "      <td>24</td>\n",
       "      <td>78</td>\n",
       "      <td>1.9</td>\n",
       "    </tr>\n",
       "    <tr>\n",
       "      <th>3</th>\n",
       "      <td>Angola</td>\n",
       "      <td>52</td>\n",
       "      <td>7.8</td>\n",
       "      <td>31</td>\n",
       "      <td>31</td>\n",
       "      <td>5.6</td>\n",
       "      <td>49</td>\n",
       "      <td>52</td>\n",
       "      <td>4.8e+02</td>\n",
       "      <td>5.3e+03</td>\n",
       "      <td>11</td>\n",
       "      <td>27</td>\n",
       "      <td>3.7e+02</td>\n",
       "      <td>14</td>\n",
       "    </tr>\n",
       "    <tr>\n",
       "      <th>4</th>\n",
       "      <td>Antigua and Barbuda</td>\n",
       "      <td>76</td>\n",
       "      <td>7.8</td>\n",
       "      <td>62</td>\n",
       "      <td>43</td>\n",
       "      <td>12</td>\n",
       "      <td>98</td>\n",
       "      <td>nan</td>\n",
       "      <td>nan</td>\n",
       "      <td>5.1e+03</td>\n",
       "      <td>4.4</td>\n",
       "      <td>6.7</td>\n",
       "      <td>7.6</td>\n",
       "      <td>nan</td>\n",
       "    </tr>\n",
       "  </tbody>\n",
       "</table>\n",
       "</div>"
      ],
      "text/plain": [
       "               Country  LifeExpectancy  AlcConsumption  Overweight  \\\n",
       "0          Afghanistan              60            0.01          16   \n",
       "1              Albania              78             5.3          53   \n",
       "2              Algeria              76            0.45          59   \n",
       "3               Angola              52             7.8          31   \n",
       "4  Antigua and Barbuda              76             7.8          62   \n",
       "\n",
       "   Cholesterol  BloodSugar  ImprovedWater  ImprovedSanitation  MaternalDeaths  \\\n",
       "0           22         8.4             55                  32           4e+02   \n",
       "1           45         8.3             95                  93              29   \n",
       "2           39          10             84                  88         1.4e+02   \n",
       "3           31         5.6             49                  52         4.8e+02   \n",
       "4           43          12             98                 nan             nan   \n",
       "\n",
       "   UVRadiation  HomicideRate  TrafficDeaths  Tubercululosis  Suicide  \n",
       "0      4.1e+03           7.3             16         1.9e+02      5.7  \n",
       "1      2.5e+03             5             15              19      5.9  \n",
       "2      3.3e+03           4.4             24              78      1.9  \n",
       "3      5.3e+03            11             27         3.7e+02       14  \n",
       "4      5.1e+03           4.4            6.7             7.6      nan  "
      ]
     },
     "execution_count": 69,
     "metadata": {},
     "output_type": "execute_result"
    }
   ],
   "source": [
    "totaldf.head(5)"
   ]
  },
  {
   "cell_type": "code",
   "execution_count": 39,
   "metadata": {
    "collapsed": false
   },
   "outputs": [
    {
     "name": "stdout",
     "output_type": "stream",
     "text": [
      "--------------- CORRELATIONS ---------------\n",
      "                    LifeExpectancy   Smoking  AlcConsumption  Overweight  \\\n",
      "LifeExpectancy            1.000000  0.249703        0.449908    0.642331   \n",
      "Smoking                   0.249703  1.000000        0.228790    0.371351   \n",
      "AlcConsumption            0.449908  0.228790        1.000000    0.337301   \n",
      "Overweight                0.642331  0.371351        0.337301    1.000000   \n",
      "LowExercise               0.329608 -0.055418        0.069692    0.463555   \n",
      "Cholesterol               0.819122  0.343770        0.558656    0.689507   \n",
      "BloodSugar                0.375444  0.426404       -0.020947    0.689836   \n",
      "ImprovedWater             0.769728  0.307961        0.395846    0.593261   \n",
      "ImprovedSanitation        0.849289  0.330889        0.445358    0.686397   \n",
      "MaternalDeaths           -0.854801 -0.289982       -0.351171   -0.660800   \n",
      "UVRadiation              -0.557237 -0.425587       -0.564594   -0.364322   \n",
      "HomicideRate             -0.189353 -0.244512       -0.066809   -0.020601   \n",
      "TrafficDeaths            -0.658213 -0.386946       -0.475372   -0.462138   \n",
      "Malaria                  -0.356734 -0.251441        0.117950   -0.211497   \n",
      "HIV                      -0.268193 -0.163352        0.150585   -0.112722   \n",
      "Tubercululosis           -0.643085 -0.103174       -0.289231   -0.471175   \n",
      "Suicide                  -0.073634  0.118175        0.259802   -0.211360   \n",
      "\n",
      "                    LowExercise  Cholesterol  BloodSugar  ImprovedWater  \\\n",
      "LifeExpectancy         0.329608     0.819122    0.375444       0.769728   \n",
      "Smoking               -0.055418     0.343770    0.426404       0.307961   \n",
      "AlcConsumption         0.069692     0.558656   -0.020947       0.395846   \n",
      "Overweight             0.463555     0.689507    0.689836       0.593261   \n",
      "LowExercise            1.000000     0.346623    0.385079       0.258133   \n",
      "Cholesterol            0.346623     1.000000    0.366182       0.667556   \n",
      "BloodSugar             0.385079     0.366182    1.000000       0.374252   \n",
      "ImprovedWater          0.258133     0.667556    0.374252       1.000000   \n",
      "ImprovedSanitation     0.349598     0.794480    0.420894       0.790079   \n",
      "MaternalDeaths        -0.283112    -0.725931   -0.514994      -0.723602   \n",
      "UVRadiation            0.037423    -0.608233   -0.046192      -0.456334   \n",
      "HomicideRate           0.147966    -0.285824   -0.090728      -0.114335   \n",
      "TrafficDeaths         -0.137726    -0.662000   -0.292423      -0.566794   \n",
      "Malaria               -0.106364    -0.330051   -0.288900      -0.241769   \n",
      "HIV                    0.132057    -0.140231   -0.168166      -0.132549   \n",
      "Tubercululosis        -0.144819    -0.474177   -0.223924      -0.507927   \n",
      "Suicide               -0.432156    -0.014237   -0.160675      -0.071891   \n",
      "\n",
      "                    ImprovedSanitation  MaternalDeaths  UVRadiation  \\\n",
      "LifeExpectancy                0.849289       -0.854801    -0.557237   \n",
      "Smoking                       0.330889       -0.289982    -0.425587   \n",
      "AlcConsumption                0.445358       -0.351171    -0.564594   \n",
      "Overweight                    0.686397       -0.660800    -0.364322   \n",
      "LowExercise                   0.349598       -0.283112     0.037423   \n",
      "Cholesterol                   0.794480       -0.725931    -0.608233   \n",
      "BloodSugar                    0.420894       -0.514994    -0.046192   \n",
      "ImprovedWater                 0.790079       -0.723602    -0.456334   \n",
      "ImprovedSanitation            1.000000       -0.822348    -0.538668   \n",
      "MaternalDeaths               -0.822348        1.000000     0.506022   \n",
      "UVRadiation                  -0.538668        0.506022     1.000000   \n",
      "HomicideRate                 -0.152992        0.115334     0.324294   \n",
      "TrafficDeaths                -0.569476        0.544980     0.477652   \n",
      "Malaria                      -0.314133        0.365703     0.157499   \n",
      "HIV                          -0.194974        0.157549     0.099297   \n",
      "Tubercululosis               -0.591477        0.482677     0.334892   \n",
      "Suicide                      -0.066800        0.049644    -0.138712   \n",
      "\n",
      "                    HomicideRate  TrafficDeaths   Malaria       HIV  \\\n",
      "LifeExpectancy         -0.189353      -0.658213 -0.356734 -0.268193   \n",
      "Smoking                -0.244512      -0.386946 -0.251441 -0.163352   \n",
      "AlcConsumption         -0.066809      -0.475372  0.117950  0.150585   \n",
      "Overweight             -0.020601      -0.462138 -0.211497 -0.112722   \n",
      "LowExercise             0.147966      -0.137726 -0.106364  0.132057   \n",
      "Cholesterol            -0.285824      -0.662000 -0.330051 -0.140231   \n",
      "BloodSugar             -0.090728      -0.292423 -0.288900 -0.168166   \n",
      "ImprovedWater          -0.114335      -0.566794 -0.241769 -0.132549   \n",
      "ImprovedSanitation     -0.152992      -0.569476 -0.314133 -0.194974   \n",
      "MaternalDeaths          0.115334       0.544980  0.365703  0.157549   \n",
      "UVRadiation             0.324294       0.477652  0.157499  0.099297   \n",
      "HomicideRate            1.000000       0.239562 -0.066931  0.110452   \n",
      "TrafficDeaths           0.239562       1.000000  0.142091  0.217476   \n",
      "Malaria                -0.066931       0.142091  1.000000  0.418262   \n",
      "HIV                     0.110452       0.217476  0.418262  1.000000   \n",
      "Tubercululosis          0.165141       0.388150  0.134347  0.479971   \n",
      "Suicide                -0.151903      -0.077497  0.033290  0.059807   \n",
      "\n",
      "                    Tubercululosis   Suicide  \n",
      "LifeExpectancy           -0.643085 -0.073634  \n",
      "Smoking                  -0.103174  0.118175  \n",
      "AlcConsumption           -0.289231  0.259802  \n",
      "Overweight               -0.471175 -0.211360  \n",
      "LowExercise              -0.144819 -0.432156  \n",
      "Cholesterol              -0.474177 -0.014237  \n",
      "BloodSugar               -0.223924 -0.160675  \n",
      "ImprovedWater            -0.507927 -0.071891  \n",
      "ImprovedSanitation       -0.591477 -0.066800  \n",
      "MaternalDeaths            0.482677  0.049644  \n",
      "UVRadiation               0.334892 -0.138712  \n",
      "HomicideRate              0.165141 -0.151903  \n",
      "TrafficDeaths             0.388150 -0.077497  \n",
      "Malaria                   0.134347  0.033290  \n",
      "HIV                       0.479971  0.059807  \n",
      "Tubercululosis            1.000000  0.046151  \n",
      "Suicide                   0.046151  1.000000  \n"
     ]
    }
   ],
   "source": [
    "corr_df = totaldf.corr(method='pearson')\n",
    "print(\"--------------- CORRELATIONS ---------------\")\n",
    "print(corr_df.head(corr_df.shape[1]))"
   ]
  },
  {
   "cell_type": "code",
   "execution_count": 40,
   "metadata": {
    "collapsed": false
   },
   "outputs": [
    {
     "data": {
      "text/plain": [
       "17"
      ]
     },
     "execution_count": 40,
     "metadata": {},
     "output_type": "execute_result"
    }
   ],
   "source": [
    "corr_df.shape[1]"
   ]
  },
  {
   "cell_type": "code",
   "execution_count": 41,
   "metadata": {
    "collapsed": false
   },
   "outputs": [
    {
     "data": {
      "text/plain": [
       "9.7319767441860474"
      ]
     },
     "execution_count": 41,
     "metadata": {},
     "output_type": "execute_result"
    }
   ],
   "source": [
    "Series.mean(totaldf['Suicide'])\n",
    "#stats.mean(totaldf['Suicide'])"
   ]
  },
  {
   "cell_type": "code",
   "execution_count": 42,
   "metadata": {
    "collapsed": false
   },
   "outputs": [
    {
     "name": "stdout",
     "output_type": "stream",
     "text": [
      "       Country  LifeExpectancy  Smoking  AlcConsumption  Overweight  \\\n",
      "7    Australia            82.8     16.0           10.52        64.0   \n",
      "66   Guatemala            71.9      NaN            2.14        52.0   \n",
      "123     Panama            77.8      7.4            6.94        62.2   \n",
      "\n",
      "     LowExercise  Cholesterol  BloodSugar  ImprovedWater  ImprovedSanitation  \\\n",
      "7           23.8         55.2         7.3          100.0               100.0   \n",
      "66          13.3         27.7         7.5           92.8                63.9   \n",
      "123          NaN         42.8         9.0           94.7                75.0   \n",
      "\n",
      "     MaternalDeaths  UVRadiation  HomicideRate  TrafficDeaths  Malaria  \\\n",
      "7               6.0       3206.0           1.1            5.4      NaN   \n",
      "66             88.0       5141.0          39.9           19.0  10400.0   \n",
      "123            94.0       4898.0          19.3           10.0    830.0   \n",
      "\n",
      "         HIV  Tubercululosis  Suicide  \n",
      "7        NaN             6.4     10.6  \n",
      "66   49000.0            57.0      8.7  \n",
      "123  17000.0            46.0      4.7  \n"
     ]
    }
   ],
   "source": [
    "#print(df.loc[df['B'].isin(['one','three'])])\n",
    "\n",
    "print(totaldf.loc[totaldf['Country'].isin(['Panama', 'Guatemala', 'Australia'])])"
   ]
  },
  {
   "cell_type": "code",
   "execution_count": 43,
   "metadata": {
    "collapsed": false
   },
   "outputs": [
    {
     "data": {
      "text/plain": [
       "Country               Papua New Guinea\n",
       "LifeExpectancy                    62.9\n",
       "Smoking                            NaN\n",
       "AlcConsumption                    0.79\n",
       "Overweight                        60.7\n",
       "LowExercise                       14.7\n",
       "Cholesterol                       38.2\n",
       "BloodSugar                        11.8\n",
       "ImprovedWater                       40\n",
       "ImprovedSanitation                18.9\n",
       "MaternalDeaths                     215\n",
       "UVRadiation                       5377\n",
       "HomicideRate                      10.8\n",
       "TrafficDeaths                     16.8\n",
       "Malaria                        1.3e+06\n",
       "HIV                              37000\n",
       "Tubercululosis                     417\n",
       "Suicide                           12.4\n",
       "Name: 124, dtype: object"
      ]
     },
     "execution_count": 43,
     "metadata": {},
     "output_type": "execute_result"
    }
   ],
   "source": [
    "totaldf.ix[totaldf['AlcConsumption'].idxmax()]\n",
    "totaldf.ix[totaldf['ImprovedWater'].idxmin()]"
   ]
  },
  {
   "cell_type": "code",
   "execution_count": 53,
   "metadata": {
    "collapsed": false
   },
   "outputs": [
    {
     "data": {
      "text/plain": [
       "[<matplotlib.lines.Line2D at 0x10d8684d0>]"
      ]
     },
     "execution_count": 53,
     "metadata": {},
     "output_type": "execute_result"
    },
    {
     "data": {
      "image/png": "[encoded data removed]",
      "text/plain": [
       "<matplotlib.figure.Figure at 0x10d3debd0>"
      ]
     },
     "metadata": {},
     "output_type": "display_data"
    }
   ],
   "source": [
    "#Importing libraries. The same will be used throughout the article.\n",
    "import numpy as np\n",
    "import pandas as pd\n",
    "import random\n",
    "import matplotlib.pyplot as plt\n",
    "%matplotlib inline\n",
    "from matplotlib.pylab import rcParams\n",
    "rcParams['figure.figsize'] = 12, 10"
   ]
  },
  {
   "cell_type": "code",
   "execution_count": 64,
   "metadata": {
    "collapsed": false
   },
   "outputs": [
    {
     "name": "stdout",
     "output_type": "stream",
     "text": [
      "               Country  LifeExpectancy  Smoking  AlcConsumption  Overweight  \\\n",
      "0          Afghanistan              60      nan            0.01          16   \n",
      "1              Albania              78       30             5.3          53   \n",
      "2              Algeria              76      nan            0.45          59   \n",
      "3               Angola              52      nan             7.8          31   \n",
      "4  Antigua and Barbuda              76      nan             7.8          62   \n",
      "\n",
      "   LowExercise  Cholesterol  BloodSugar  ImprovedWater  ImprovedSanitation  \\\n",
      "0          nan           22         8.4             55                  32   \n",
      "1          nan           45         8.3             95                  93   \n",
      "2           34           39          10             84                  88   \n",
      "3          nan           31         5.6             49                  52   \n",
      "4          nan           43          12             98                 nan   \n",
      "\n",
      "   MaternalDeaths  UVRadiation  HomicideRate  TrafficDeaths  Malaria     HIV  \\\n",
      "0           4e+02      4.1e+03           7.3             16  2.5e+05 6.7e+03   \n",
      "1              29      2.5e+03             5             15      nan     nan   \n",
      "2         1.4e+02      3.3e+03           4.4             24       50 1.1e+04   \n",
      "3         4.8e+02      5.3e+03            11             27  3.4e+06   3e+05   \n",
      "4             nan      5.1e+03           4.4            6.7      nan     nan   \n",
      "\n",
      "   Tubercululosis  Suicide  \n",
      "0         1.9e+02      5.7  \n",
      "1              19      5.9  \n",
      "2              78      1.9  \n",
      "3         3.7e+02       14  \n",
      "4             7.6      nan  \n"
     ]
    }
   ],
   "source": [
    "print totaldf.head()"
   ]
  },
  {
   "cell_type": "code",
   "execution_count": 55,
   "metadata": {
    "collapsed": false
   },
   "outputs": [],
   "source": [
    "#Import Linear Regression model from scikit-learn.\n",
    "from sklearn.linear_model import LinearRegression\n",
    "def linear_regression(data, power, models_to_plot):\n",
    "    #initialize predictors:\n",
    "    predictors=['x']\n",
    "    if power>=2:\n",
    "        predictors.extend(['x_%d'%i for i in range(2,power+1)])\n",
    "    \n",
    "    #Fit the model\n",
    "    linreg = LinearRegression(normalize=True)\n",
    "    linreg.fit(data[predictors],data['y'])\n",
    "    y_pred = linreg.predict(data[predictors])\n",
    "    \n",
    "    #Check if a plot is to be made for the entered power\n",
    "    if power in models_to_plot:\n",
    "        plt.subplot(models_to_plot[power])\n",
    "        plt.tight_layout()\n",
    "        plt.plot(data['x'],y_pred)\n",
    "        plt.plot(data['x'],data['y'],'.')\n",
    "        plt.title('Plot for power: %d'%power)\n",
    "    \n",
    "    #Return the result in pre-defined format\n",
    "    rss = sum((y_pred-data['y'])**2)\n",
    "    ret = [rss]\n",
    "    ret.extend([linreg.intercept_])\n",
    "    ret.extend(linreg.coef_)\n",
    "    return ret"
   ]
  },
  {
   "cell_type": "code",
   "execution_count": 56,
   "metadata": {
    "collapsed": false
   },
   "outputs": [
    {
     "data": {
      "image/png": "[encoded data removed]",
      "text/plain": [
       "<matplotlib.figure.Figure at 0x10d447f50>"
      ]
     },
     "metadata": {},
     "output_type": "display_data"
    }
   ],
   "source": [
    "#Initialize a dataframe to store the results:\n",
    "col = ['rss','intercept'] + ['coef_x_%d'%i for i in range(1,16)]\n",
    "ind = ['model_pow_%d'%i for i in range(1,16)]\n",
    "coef_matrix_simple = pd.DataFrame(index=ind, columns=col)\n",
    "\n",
    "#Define the powers for which a plot is required:\n",
    "models_to_plot = {1:231,3:232,6:233,9:234,12:235,15:236}\n",
    "\n",
    "#Iterate through all powers and assimilate results\n",
    "for i in range(1,16):\n",
    "    coef_matrix_simple.iloc[i-1,0:i+2] = linear_regression(data, power=i, models_to_plot=models_to_plot)"
   ]
  },
  {
   "cell_type": "code",
   "execution_count": 57,
   "metadata": {
    "collapsed": false
   },
   "outputs": [
    {
     "data": {
      "text/html": [
       "<div>\n",
       "<table border=\"1\" class=\"dataframe\">\n",
       "  <thead>\n",
       "    <tr style=\"text-align: right;\">\n",
       "      <th></th>\n",
       "      <th>rss</th>\n",
       "      <th>intercept</th>\n",
       "      <th>coef_x_1</th>\n",
       "      <th>coef_x_2</th>\n",
       "      <th>coef_x_3</th>\n",
       "      <th>coef_x_4</th>\n",
       "      <th>coef_x_5</th>\n",
       "      <th>coef_x_6</th>\n",
       "      <th>coef_x_7</th>\n",
       "      <th>coef_x_8</th>\n",
       "      <th>coef_x_9</th>\n",
       "      <th>coef_x_10</th>\n",
       "      <th>coef_x_11</th>\n",
       "      <th>coef_x_12</th>\n",
       "      <th>coef_x_13</th>\n",
       "      <th>coef_x_14</th>\n",
       "      <th>coef_x_15</th>\n",
       "    </tr>\n",
       "  </thead>\n",
       "  <tbody>\n",
       "    <tr>\n",
       "      <th>model_pow_1</th>\n",
       "      <td>3.3</td>\n",
       "      <td>2</td>\n",
       "      <td>-0.62</td>\n",
       "      <td>NaN</td>\n",
       "      <td>NaN</td>\n",
       "      <td>NaN</td>\n",
       "      <td>NaN</td>\n",
       "      <td>NaN</td>\n",
       "      <td>NaN</td>\n",
       "      <td>NaN</td>\n",
       "      <td>NaN</td>\n",
       "      <td>NaN</td>\n",
       "      <td>NaN</td>\n",
       "      <td>NaN</td>\n",
       "      <td>NaN</td>\n",
       "      <td>NaN</td>\n",
       "      <td>NaN</td>\n",
       "    </tr>\n",
       "    <tr>\n",
       "      <th>model_pow_2</th>\n",
       "      <td>3.3</td>\n",
       "      <td>1.9</td>\n",
       "      <td>-0.58</td>\n",
       "      <td>-0.006</td>\n",
       "      <td>NaN</td>\n",
       "      <td>NaN</td>\n",
       "      <td>NaN</td>\n",
       "      <td>NaN</td>\n",
       "      <td>NaN</td>\n",
       "      <td>NaN</td>\n",
       "      <td>NaN</td>\n",
       "      <td>NaN</td>\n",
       "      <td>NaN</td>\n",
       "      <td>NaN</td>\n",
       "      <td>NaN</td>\n",
       "      <td>NaN</td>\n",
       "      <td>NaN</td>\n",
       "    </tr>\n",
       "    <tr>\n",
       "      <th>model_pow_3</th>\n",
       "      <td>1.1</td>\n",
       "      <td>-1.1</td>\n",
       "      <td>3</td>\n",
       "      <td>-1.3</td>\n",
       "      <td>0.14</td>\n",
       "      <td>NaN</td>\n",
       "      <td>NaN</td>\n",
       "      <td>NaN</td>\n",
       "      <td>NaN</td>\n",
       "      <td>NaN</td>\n",
       "      <td>NaN</td>\n",
       "      <td>NaN</td>\n",
       "      <td>NaN</td>\n",
       "      <td>NaN</td>\n",
       "      <td>NaN</td>\n",
       "      <td>NaN</td>\n",
       "      <td>NaN</td>\n",
       "    </tr>\n",
       "    <tr>\n",
       "      <th>model_pow_4</th>\n",
       "      <td>1.1</td>\n",
       "      <td>-0.27</td>\n",
       "      <td>1.7</td>\n",
       "      <td>-0.53</td>\n",
       "      <td>-0.036</td>\n",
       "      <td>0.014</td>\n",
       "      <td>NaN</td>\n",
       "      <td>NaN</td>\n",
       "      <td>NaN</td>\n",
       "      <td>NaN</td>\n",
       "      <td>NaN</td>\n",
       "      <td>NaN</td>\n",
       "      <td>NaN</td>\n",
       "      <td>NaN</td>\n",
       "      <td>NaN</td>\n",
       "      <td>NaN</td>\n",
       "      <td>NaN</td>\n",
       "    </tr>\n",
       "    <tr>\n",
       "      <th>model_pow_5</th>\n",
       "      <td>1</td>\n",
       "      <td>3</td>\n",
       "      <td>-5.1</td>\n",
       "      <td>4.7</td>\n",
       "      <td>-1.9</td>\n",
       "      <td>0.33</td>\n",
       "      <td>-0.021</td>\n",
       "      <td>NaN</td>\n",
       "      <td>NaN</td>\n",
       "      <td>NaN</td>\n",
       "      <td>NaN</td>\n",
       "      <td>NaN</td>\n",
       "      <td>NaN</td>\n",
       "      <td>NaN</td>\n",
       "      <td>NaN</td>\n",
       "      <td>NaN</td>\n",
       "      <td>NaN</td>\n",
       "    </tr>\n",
       "    <tr>\n",
       "      <th>model_pow_6</th>\n",
       "      <td>0.99</td>\n",
       "      <td>-2.8</td>\n",
       "      <td>9.5</td>\n",
       "      <td>-9.7</td>\n",
       "      <td>5.2</td>\n",
       "      <td>-1.6</td>\n",
       "      <td>0.23</td>\n",
       "      <td>-0.014</td>\n",
       "      <td>NaN</td>\n",
       "      <td>NaN</td>\n",
       "      <td>NaN</td>\n",
       "      <td>NaN</td>\n",
       "      <td>NaN</td>\n",
       "      <td>NaN</td>\n",
       "      <td>NaN</td>\n",
       "      <td>NaN</td>\n",
       "      <td>NaN</td>\n",
       "    </tr>\n",
       "    <tr>\n",
       "      <th>model_pow_7</th>\n",
       "      <td>0.93</td>\n",
       "      <td>19</td>\n",
       "      <td>-56</td>\n",
       "      <td>69</td>\n",
       "      <td>-45</td>\n",
       "      <td>17</td>\n",
       "      <td>-3.5</td>\n",
       "      <td>0.4</td>\n",
       "      <td>-0.019</td>\n",
       "      <td>NaN</td>\n",
       "      <td>NaN</td>\n",
       "      <td>NaN</td>\n",
       "      <td>NaN</td>\n",
       "      <td>NaN</td>\n",
       "      <td>NaN</td>\n",
       "      <td>NaN</td>\n",
       "      <td>NaN</td>\n",
       "    </tr>\n",
       "    <tr>\n",
       "      <th>model_pow_8</th>\n",
       "      <td>0.92</td>\n",
       "      <td>43</td>\n",
       "      <td>-1.4e+02</td>\n",
       "      <td>1.8e+02</td>\n",
       "      <td>-1.3e+02</td>\n",
       "      <td>58</td>\n",
       "      <td>-15</td>\n",
       "      <td>2.4</td>\n",
       "      <td>-0.21</td>\n",
       "      <td>0.0077</td>\n",
       "      <td>NaN</td>\n",
       "      <td>NaN</td>\n",
       "      <td>NaN</td>\n",
       "      <td>NaN</td>\n",
       "      <td>NaN</td>\n",
       "      <td>NaN</td>\n",
       "      <td>NaN</td>\n",
       "    </tr>\n",
       "    <tr>\n",
       "      <th>model_pow_9</th>\n",
       "      <td>0.87</td>\n",
       "      <td>1.7e+02</td>\n",
       "      <td>-6.1e+02</td>\n",
       "      <td>9.6e+02</td>\n",
       "      <td>-8.5e+02</td>\n",
       "      <td>4.6e+02</td>\n",
       "      <td>-1.6e+02</td>\n",
       "      <td>37</td>\n",
       "      <td>-5.2</td>\n",
       "      <td>0.42</td>\n",
       "      <td>-0.015</td>\n",
       "      <td>NaN</td>\n",
       "      <td>NaN</td>\n",
       "      <td>NaN</td>\n",
       "      <td>NaN</td>\n",
       "      <td>NaN</td>\n",
       "      <td>NaN</td>\n",
       "    </tr>\n",
       "    <tr>\n",
       "      <th>model_pow_10</th>\n",
       "      <td>0.87</td>\n",
       "      <td>1.4e+02</td>\n",
       "      <td>-4.9e+02</td>\n",
       "      <td>7.3e+02</td>\n",
       "      <td>-6e+02</td>\n",
       "      <td>2.9e+02</td>\n",
       "      <td>-87</td>\n",
       "      <td>15</td>\n",
       "      <td>-0.81</td>\n",
       "      <td>-0.14</td>\n",
       "      <td>0.026</td>\n",
       "      <td>-0.0013</td>\n",
       "      <td>NaN</td>\n",
       "      <td>NaN</td>\n",
       "      <td>NaN</td>\n",
       "      <td>NaN</td>\n",
       "      <td>NaN</td>\n",
       "    </tr>\n",
       "    <tr>\n",
       "      <th>model_pow_11</th>\n",
       "      <td>0.87</td>\n",
       "      <td>-75</td>\n",
       "      <td>5.1e+02</td>\n",
       "      <td>-1.3e+03</td>\n",
       "      <td>1.9e+03</td>\n",
       "      <td>-1.6e+03</td>\n",
       "      <td>9.1e+02</td>\n",
       "      <td>-3.5e+02</td>\n",
       "      <td>91</td>\n",
       "      <td>-16</td>\n",
       "      <td>1.8</td>\n",
       "      <td>-0.12</td>\n",
       "      <td>0.0034</td>\n",
       "      <td>NaN</td>\n",
       "      <td>NaN</td>\n",
       "      <td>NaN</td>\n",
       "      <td>NaN</td>\n",
       "    </tr>\n",
       "    <tr>\n",
       "      <th>model_pow_12</th>\n",
       "      <td>0.87</td>\n",
       "      <td>-3.4e+02</td>\n",
       "      <td>1.9e+03</td>\n",
       "      <td>-4.4e+03</td>\n",
       "      <td>6e+03</td>\n",
       "      <td>-5.2e+03</td>\n",
       "      <td>3.1e+03</td>\n",
       "      <td>-1.3e+03</td>\n",
       "      <td>3.8e+02</td>\n",
       "      <td>-80</td>\n",
       "      <td>12</td>\n",
       "      <td>-1.1</td>\n",
       "      <td>0.062</td>\n",
       "      <td>-0.0016</td>\n",
       "      <td>NaN</td>\n",
       "      <td>NaN</td>\n",
       "      <td>NaN</td>\n",
       "    </tr>\n",
       "    <tr>\n",
       "      <th>model_pow_13</th>\n",
       "      <td>0.86</td>\n",
       "      <td>3.2e+03</td>\n",
       "      <td>-1.8e+04</td>\n",
       "      <td>4.5e+04</td>\n",
       "      <td>-6.7e+04</td>\n",
       "      <td>6.6e+04</td>\n",
       "      <td>-4.6e+04</td>\n",
       "      <td>2.3e+04</td>\n",
       "      <td>-8.5e+03</td>\n",
       "      <td>2.3e+03</td>\n",
       "      <td>-4.5e+02</td>\n",
       "      <td>62</td>\n",
       "      <td>-5.7</td>\n",
       "      <td>0.31</td>\n",
       "      <td>-0.0078</td>\n",
       "      <td>NaN</td>\n",
       "      <td>NaN</td>\n",
       "    </tr>\n",
       "    <tr>\n",
       "      <th>model_pow_14</th>\n",
       "      <td>0.79</td>\n",
       "      <td>2.4e+04</td>\n",
       "      <td>-1.4e+05</td>\n",
       "      <td>3.8e+05</td>\n",
       "      <td>-6.1e+05</td>\n",
       "      <td>6.6e+05</td>\n",
       "      <td>-5e+05</td>\n",
       "      <td>2.8e+05</td>\n",
       "      <td>-1.2e+05</td>\n",
       "      <td>3.7e+04</td>\n",
       "      <td>-8.5e+03</td>\n",
       "      <td>1.5e+03</td>\n",
       "      <td>-1.8e+02</td>\n",
       "      <td>15</td>\n",
       "      <td>-0.73</td>\n",
       "      <td>0.017</td>\n",
       "      <td>NaN</td>\n",
       "    </tr>\n",
       "    <tr>\n",
       "      <th>model_pow_15</th>\n",
       "      <td>0.7</td>\n",
       "      <td>-3.6e+04</td>\n",
       "      <td>2.4e+05</td>\n",
       "      <td>-7.5e+05</td>\n",
       "      <td>1.4e+06</td>\n",
       "      <td>-1.7e+06</td>\n",
       "      <td>1.5e+06</td>\n",
       "      <td>-1e+06</td>\n",
       "      <td>5e+05</td>\n",
       "      <td>-1.9e+05</td>\n",
       "      <td>5.4e+04</td>\n",
       "      <td>-1.2e+04</td>\n",
       "      <td>1.9e+03</td>\n",
       "      <td>-2.2e+02</td>\n",
       "      <td>17</td>\n",
       "      <td>-0.81</td>\n",
       "      <td>0.018</td>\n",
       "    </tr>\n",
       "  </tbody>\n",
       "</table>\n",
       "</div>"
      ],
      "text/plain": [
       "              rss intercept coef_x_1 coef_x_2 coef_x_3 coef_x_4 coef_x_5  \\\n",
       "model_pow_1   3.3         2    -0.62      NaN      NaN      NaN      NaN   \n",
       "model_pow_2   3.3       1.9    -0.58   -0.006      NaN      NaN      NaN   \n",
       "model_pow_3   1.1      -1.1        3     -1.3     0.14      NaN      NaN   \n",
       "model_pow_4   1.1     -0.27      1.7    -0.53   -0.036    0.014      NaN   \n",
       "model_pow_5     1         3     -5.1      4.7     -1.9     0.33   -0.021   \n",
       "model_pow_6  0.99      -2.8      9.5     -9.7      5.2     -1.6     0.23   \n",
       "model_pow_7  0.93        19      -56       69      -45       17     -3.5   \n",
       "model_pow_8  0.92        43 -1.4e+02  1.8e+02 -1.3e+02       58      -15   \n",
       "model_pow_9  0.87   1.7e+02 -6.1e+02  9.6e+02 -8.5e+02  4.6e+02 -1.6e+02   \n",
       "model_pow_10 0.87   1.4e+02 -4.9e+02  7.3e+02   -6e+02  2.9e+02      -87   \n",
       "model_pow_11 0.87       -75  5.1e+02 -1.3e+03  1.9e+03 -1.6e+03  9.1e+02   \n",
       "model_pow_12 0.87  -3.4e+02  1.9e+03 -4.4e+03    6e+03 -5.2e+03  3.1e+03   \n",
       "model_pow_13 0.86   3.2e+03 -1.8e+04  4.5e+04 -6.7e+04  6.6e+04 -4.6e+04   \n",
       "model_pow_14 0.79   2.4e+04 -1.4e+05  3.8e+05 -6.1e+05  6.6e+05   -5e+05   \n",
       "model_pow_15  0.7  -3.6e+04  2.4e+05 -7.5e+05  1.4e+06 -1.7e+06  1.5e+06   \n",
       "\n",
       "             coef_x_6 coef_x_7 coef_x_8 coef_x_9 coef_x_10 coef_x_11  \\\n",
       "model_pow_1       NaN      NaN      NaN      NaN       NaN       NaN   \n",
       "model_pow_2       NaN      NaN      NaN      NaN       NaN       NaN   \n",
       "model_pow_3       NaN      NaN      NaN      NaN       NaN       NaN   \n",
       "model_pow_4       NaN      NaN      NaN      NaN       NaN       NaN   \n",
       "model_pow_5       NaN      NaN      NaN      NaN       NaN       NaN   \n",
       "model_pow_6    -0.014      NaN      NaN      NaN       NaN       NaN   \n",
       "model_pow_7       0.4   -0.019      NaN      NaN       NaN       NaN   \n",
       "model_pow_8       2.4    -0.21   0.0077      NaN       NaN       NaN   \n",
       "model_pow_9        37     -5.2     0.42   -0.015       NaN       NaN   \n",
       "model_pow_10       15    -0.81    -0.14    0.026   -0.0013       NaN   \n",
       "model_pow_11 -3.5e+02       91      -16      1.8     -0.12    0.0034   \n",
       "model_pow_12 -1.3e+03  3.8e+02      -80       12      -1.1     0.062   \n",
       "model_pow_13  2.3e+04 -8.5e+03  2.3e+03 -4.5e+02        62      -5.7   \n",
       "model_pow_14  2.8e+05 -1.2e+05  3.7e+04 -8.5e+03   1.5e+03  -1.8e+02   \n",
       "model_pow_15   -1e+06    5e+05 -1.9e+05  5.4e+04  -1.2e+04   1.9e+03   \n",
       "\n",
       "             coef_x_12 coef_x_13 coef_x_14 coef_x_15  \n",
       "model_pow_1        NaN       NaN       NaN       NaN  \n",
       "model_pow_2        NaN       NaN       NaN       NaN  \n",
       "model_pow_3        NaN       NaN       NaN       NaN  \n",
       "model_pow_4        NaN       NaN       NaN       NaN  \n",
       "model_pow_5        NaN       NaN       NaN       NaN  \n",
       "model_pow_6        NaN       NaN       NaN       NaN  \n",
       "model_pow_7        NaN       NaN       NaN       NaN  \n",
       "model_pow_8        NaN       NaN       NaN       NaN  \n",
       "model_pow_9        NaN       NaN       NaN       NaN  \n",
       "model_pow_10       NaN       NaN       NaN       NaN  \n",
       "model_pow_11       NaN       NaN       NaN       NaN  \n",
       "model_pow_12   -0.0016       NaN       NaN       NaN  \n",
       "model_pow_13      0.31   -0.0078       NaN       NaN  \n",
       "model_pow_14        15     -0.73     0.017       NaN  \n",
       "model_pow_15  -2.2e+02        17     -0.81     0.018  "
      ]
     },
     "execution_count": 57,
     "metadata": {},
     "output_type": "execute_result"
    }
   ],
   "source": [
    "#Set the display format to be scientific for ease of analysis\n",
    "pd.options.display.float_format = '{:,.2g}'.format\n",
    "coef_matrix_simple"
   ]
  },
  {
   "cell_type": "code",
   "execution_count": 58,
   "metadata": {
    "collapsed": true
   },
   "outputs": [],
   "source": [
    "from sklearn.linear_model import Ridge\n",
    "def ridge_regression(data, predictors, alpha, models_to_plot={}):\n",
    "    #Fit the model\n",
    "    ridgereg = Ridge(alpha=alpha,normalize=True)\n",
    "    ridgereg.fit(data[predictors],data['LifeExpectancy'])\n",
    "    y_pred = ridgereg.predict(data[predictors])\n",
    "    \n",
    "    #Check if a plot is to be made for the entered alpha\n",
    "    if alpha in models_to_plot:\n",
    "        plt.subplot(models_to_plot[alpha])\n",
    "        plt.tight_layout()\n",
    "        plt.plot(data['x'],y_pred)\n",
    "        plt.plot(data['x'],data['LifeExpectancy'],'.')\n",
    "        plt.title('Plot for alpha: %.3g'%alpha)\n",
    "    \n",
    "    #Return the result in pre-defined format\n",
    "    rss = sum((y_pred-data['LifeExpectancy'])**2)\n",
    "    ret = [rss]\n",
    "    ret.extend([ridgereg.intercept_])\n",
    "    ret.extend(ridgereg.coef_)\n",
    "    return ret"
   ]
  },
  {
   "cell_type": "code",
   "execution_count": 59,
   "metadata": {
    "collapsed": false
   },
   "outputs": [
    {
     "data": {
      "image/png": "[encoded data removed]",
      "text/plain": [
       "<matplotlib.figure.Figure at 0x10b18a9d0>"
      ]
     },
     "metadata": {},
     "output_type": "display_data"
    }
   ],
   "source": [
    "#Initialize predictors to be set of 15 powers of x\n",
    "predictors=['x']\n",
    "predictors.extend(['x_%d'%i for i in range(2,16)])\n",
    "\n",
    "#Set the different values of alpha to be tested\n",
    "alpha_ridge = [1e-15, 1e-10, 1e-8, 1e-4, 1e-3,1e-2, 1, 5, 10, 20]\n",
    "\n",
    "#Initialize the dataframe for storing coefficients.\n",
    "col = ['rss','intercept'] + ['coef_x_%d'%i for i in range(1,16)]\n",
    "ind = ['alpha_%.2g'%alpha_ridge[i] for i in range(0,10)]\n",
    "coef_matrix_ridge = pd.DataFrame(index=ind, columns=col)\n",
    "\n",
    "models_to_plot = {1e-15:231, 1e-10:232, 1e-4:233, 1e-3:234, 1e-2:235, 5:236}\n",
    "for i in range(10):\n",
    "    coef_matrix_ridge.iloc[i,] = ridge_regression(data, predictors, alpha_ridge[i], models_to_plot)"
   ]
  },
  {
   "cell_type": "code",
   "execution_count": 60,
   "metadata": {
    "collapsed": false
   },
   "outputs": [
    {
     "data": {
      "text/html": [
       "<div>\n",
       "<table border=\"1\" class=\"dataframe\">\n",
       "  <thead>\n",
       "    <tr style=\"text-align: right;\">\n",
       "      <th></th>\n",
       "      <th>rss</th>\n",
       "      <th>intercept</th>\n",
       "      <th>coef_x_1</th>\n",
       "      <th>coef_x_2</th>\n",
       "      <th>coef_x_3</th>\n",
       "      <th>coef_x_4</th>\n",
       "      <th>coef_x_5</th>\n",
       "      <th>coef_x_6</th>\n",
       "      <th>coef_x_7</th>\n",
       "      <th>coef_x_8</th>\n",
       "      <th>coef_x_9</th>\n",
       "      <th>coef_x_10</th>\n",
       "      <th>coef_x_11</th>\n",
       "      <th>coef_x_12</th>\n",
       "      <th>coef_x_13</th>\n",
       "      <th>coef_x_14</th>\n",
       "      <th>coef_x_15</th>\n",
       "    </tr>\n",
       "  </thead>\n",
       "  <tbody>\n",
       "    <tr>\n",
       "      <th>alpha_1e-15</th>\n",
       "      <td>0.87</td>\n",
       "      <td>95</td>\n",
       "      <td>-3e+02</td>\n",
       "      <td>3.8e+02</td>\n",
       "      <td>-2.4e+02</td>\n",
       "      <td>67</td>\n",
       "      <td>0.41</td>\n",
       "      <td>-4.7</td>\n",
       "      <td>0.61</td>\n",
       "      <td>0.15</td>\n",
       "      <td>-0.029</td>\n",
       "      <td>-0.0046</td>\n",
       "      <td>0.0008</td>\n",
       "      <td>0.0002</td>\n",
       "      <td>-4.9e-05</td>\n",
       "      <td>3.3e-06</td>\n",
       "      <td>-4.4e-08</td>\n",
       "    </tr>\n",
       "    <tr>\n",
       "      <th>alpha_1e-10</th>\n",
       "      <td>0.92</td>\n",
       "      <td>11</td>\n",
       "      <td>-29</td>\n",
       "      <td>31</td>\n",
       "      <td>-15</td>\n",
       "      <td>2.9</td>\n",
       "      <td>0.17</td>\n",
       "      <td>-0.091</td>\n",
       "      <td>-0.011</td>\n",
       "      <td>0.002</td>\n",
       "      <td>0.00064</td>\n",
       "      <td>2.4e-05</td>\n",
       "      <td>-2e-05</td>\n",
       "      <td>-4.2e-06</td>\n",
       "      <td>2.2e-07</td>\n",
       "      <td>2.3e-07</td>\n",
       "      <td>-2.3e-08</td>\n",
       "    </tr>\n",
       "    <tr>\n",
       "      <th>alpha_1e-08</th>\n",
       "      <td>0.95</td>\n",
       "      <td>1.3</td>\n",
       "      <td>-1.5</td>\n",
       "      <td>1.7</td>\n",
       "      <td>-0.68</td>\n",
       "      <td>0.039</td>\n",
       "      <td>0.016</td>\n",
       "      <td>0.00016</td>\n",
       "      <td>-0.00036</td>\n",
       "      <td>-5.4e-05</td>\n",
       "      <td>-2.9e-07</td>\n",
       "      <td>1.1e-06</td>\n",
       "      <td>1.9e-07</td>\n",
       "      <td>2e-08</td>\n",
       "      <td>3.9e-09</td>\n",
       "      <td>8.2e-10</td>\n",
       "      <td>-4.6e-10</td>\n",
       "    </tr>\n",
       "    <tr>\n",
       "      <th>alpha_0.0001</th>\n",
       "      <td>0.96</td>\n",
       "      <td>0.56</td>\n",
       "      <td>0.55</td>\n",
       "      <td>-0.13</td>\n",
       "      <td>-0.026</td>\n",
       "      <td>-0.0028</td>\n",
       "      <td>-0.00011</td>\n",
       "      <td>4.1e-05</td>\n",
       "      <td>1.5e-05</td>\n",
       "      <td>3.7e-06</td>\n",
       "      <td>7.4e-07</td>\n",
       "      <td>1.3e-07</td>\n",
       "      <td>1.9e-08</td>\n",
       "      <td>1.9e-09</td>\n",
       "      <td>-1.3e-10</td>\n",
       "      <td>-1.5e-10</td>\n",
       "      <td>-6.2e-11</td>\n",
       "    </tr>\n",
       "    <tr>\n",
       "      <th>alpha_0.001</th>\n",
       "      <td>1</td>\n",
       "      <td>0.82</td>\n",
       "      <td>0.31</td>\n",
       "      <td>-0.087</td>\n",
       "      <td>-0.02</td>\n",
       "      <td>-0.0028</td>\n",
       "      <td>-0.00022</td>\n",
       "      <td>1.8e-05</td>\n",
       "      <td>1.2e-05</td>\n",
       "      <td>3.4e-06</td>\n",
       "      <td>7.3e-07</td>\n",
       "      <td>1.3e-07</td>\n",
       "      <td>1.9e-08</td>\n",
       "      <td>1.7e-09</td>\n",
       "      <td>-1.5e-10</td>\n",
       "      <td>-1.4e-10</td>\n",
       "      <td>-5.2e-11</td>\n",
       "    </tr>\n",
       "    <tr>\n",
       "      <th>alpha_0.01</th>\n",
       "      <td>1.4</td>\n",
       "      <td>1.3</td>\n",
       "      <td>-0.088</td>\n",
       "      <td>-0.052</td>\n",
       "      <td>-0.01</td>\n",
       "      <td>-0.0014</td>\n",
       "      <td>-0.00013</td>\n",
       "      <td>7.2e-07</td>\n",
       "      <td>4.1e-06</td>\n",
       "      <td>1.3e-06</td>\n",
       "      <td>3e-07</td>\n",
       "      <td>5.6e-08</td>\n",
       "      <td>9e-09</td>\n",
       "      <td>1.1e-09</td>\n",
       "      <td>4.3e-11</td>\n",
       "      <td>-3.1e-11</td>\n",
       "      <td>-1.5e-11</td>\n",
       "    </tr>\n",
       "    <tr>\n",
       "      <th>alpha_1</th>\n",
       "      <td>5.6</td>\n",
       "      <td>0.97</td>\n",
       "      <td>-0.14</td>\n",
       "      <td>-0.019</td>\n",
       "      <td>-0.003</td>\n",
       "      <td>-0.00047</td>\n",
       "      <td>-7e-05</td>\n",
       "      <td>-9.9e-06</td>\n",
       "      <td>-1.3e-06</td>\n",
       "      <td>-1.4e-07</td>\n",
       "      <td>-9.3e-09</td>\n",
       "      <td>1.3e-09</td>\n",
       "      <td>7.8e-10</td>\n",
       "      <td>2.4e-10</td>\n",
       "      <td>6.2e-11</td>\n",
       "      <td>1.4e-11</td>\n",
       "      <td>3.2e-12</td>\n",
       "    </tr>\n",
       "    <tr>\n",
       "      <th>alpha_5</th>\n",
       "      <td>14</td>\n",
       "      <td>0.55</td>\n",
       "      <td>-0.059</td>\n",
       "      <td>-0.0085</td>\n",
       "      <td>-0.0014</td>\n",
       "      <td>-0.00024</td>\n",
       "      <td>-4.1e-05</td>\n",
       "      <td>-6.9e-06</td>\n",
       "      <td>-1.1e-06</td>\n",
       "      <td>-1.9e-07</td>\n",
       "      <td>-3.1e-08</td>\n",
       "      <td>-5.1e-09</td>\n",
       "      <td>-8.2e-10</td>\n",
       "      <td>-1.3e-10</td>\n",
       "      <td>-2e-11</td>\n",
       "      <td>-3e-12</td>\n",
       "      <td>-4.2e-13</td>\n",
       "    </tr>\n",
       "    <tr>\n",
       "      <th>alpha_10</th>\n",
       "      <td>18</td>\n",
       "      <td>0.4</td>\n",
       "      <td>-0.037</td>\n",
       "      <td>-0.0055</td>\n",
       "      <td>-0.00095</td>\n",
       "      <td>-0.00017</td>\n",
       "      <td>-3e-05</td>\n",
       "      <td>-5.2e-06</td>\n",
       "      <td>-9.2e-07</td>\n",
       "      <td>-1.6e-07</td>\n",
       "      <td>-2.9e-08</td>\n",
       "      <td>-5.1e-09</td>\n",
       "      <td>-9.1e-10</td>\n",
       "      <td>-1.6e-10</td>\n",
       "      <td>-2.9e-11</td>\n",
       "      <td>-5.1e-12</td>\n",
       "      <td>-9.1e-13</td>\n",
       "    </tr>\n",
       "    <tr>\n",
       "      <th>alpha_20</th>\n",
       "      <td>23</td>\n",
       "      <td>0.28</td>\n",
       "      <td>-0.022</td>\n",
       "      <td>-0.0034</td>\n",
       "      <td>-0.0006</td>\n",
       "      <td>-0.00011</td>\n",
       "      <td>-2e-05</td>\n",
       "      <td>-3.6e-06</td>\n",
       "      <td>-6.6e-07</td>\n",
       "      <td>-1.2e-07</td>\n",
       "      <td>-2.2e-08</td>\n",
       "      <td>-4e-09</td>\n",
       "      <td>-7.5e-10</td>\n",
       "      <td>-1.4e-10</td>\n",
       "      <td>-2.5e-11</td>\n",
       "      <td>-4.7e-12</td>\n",
       "      <td>-8.7e-13</td>\n",
       "    </tr>\n",
       "  </tbody>\n",
       "</table>\n",
       "</div>"
      ],
      "text/plain": [
       "              rss intercept coef_x_1 coef_x_2 coef_x_3 coef_x_4 coef_x_5  \\\n",
       "alpha_1e-15  0.87        95   -3e+02  3.8e+02 -2.4e+02       67     0.41   \n",
       "alpha_1e-10  0.92        11      -29       31      -15      2.9     0.17   \n",
       "alpha_1e-08  0.95       1.3     -1.5      1.7    -0.68    0.039    0.016   \n",
       "alpha_0.0001 0.96      0.56     0.55    -0.13   -0.026  -0.0028 -0.00011   \n",
       "alpha_0.001     1      0.82     0.31   -0.087    -0.02  -0.0028 -0.00022   \n",
       "alpha_0.01    1.4       1.3   -0.088   -0.052    -0.01  -0.0014 -0.00013   \n",
       "alpha_1       5.6      0.97    -0.14   -0.019   -0.003 -0.00047   -7e-05   \n",
       "alpha_5        14      0.55   -0.059  -0.0085  -0.0014 -0.00024 -4.1e-05   \n",
       "alpha_10       18       0.4   -0.037  -0.0055 -0.00095 -0.00017   -3e-05   \n",
       "alpha_20       23      0.28   -0.022  -0.0034  -0.0006 -0.00011   -2e-05   \n",
       "\n",
       "             coef_x_6 coef_x_7 coef_x_8 coef_x_9 coef_x_10 coef_x_11  \\\n",
       "alpha_1e-15      -4.7     0.61     0.15   -0.029   -0.0046    0.0008   \n",
       "alpha_1e-10    -0.091   -0.011    0.002  0.00064   2.4e-05    -2e-05   \n",
       "alpha_1e-08   0.00016 -0.00036 -5.4e-05 -2.9e-07   1.1e-06   1.9e-07   \n",
       "alpha_0.0001  4.1e-05  1.5e-05  3.7e-06  7.4e-07   1.3e-07   1.9e-08   \n",
       "alpha_0.001   1.8e-05  1.2e-05  3.4e-06  7.3e-07   1.3e-07   1.9e-08   \n",
       "alpha_0.01    7.2e-07  4.1e-06  1.3e-06    3e-07   5.6e-08     9e-09   \n",
       "alpha_1      -9.9e-06 -1.3e-06 -1.4e-07 -9.3e-09   1.3e-09   7.8e-10   \n",
       "alpha_5      -6.9e-06 -1.1e-06 -1.9e-07 -3.1e-08  -5.1e-09  -8.2e-10   \n",
       "alpha_10     -5.2e-06 -9.2e-07 -1.6e-07 -2.9e-08  -5.1e-09  -9.1e-10   \n",
       "alpha_20     -3.6e-06 -6.6e-07 -1.2e-07 -2.2e-08    -4e-09  -7.5e-10   \n",
       "\n",
       "             coef_x_12 coef_x_13 coef_x_14 coef_x_15  \n",
       "alpha_1e-15     0.0002  -4.9e-05   3.3e-06  -4.4e-08  \n",
       "alpha_1e-10   -4.2e-06   2.2e-07   2.3e-07  -2.3e-08  \n",
       "alpha_1e-08      2e-08   3.9e-09   8.2e-10  -4.6e-10  \n",
       "alpha_0.0001   1.9e-09  -1.3e-10  -1.5e-10  -6.2e-11  \n",
       "alpha_0.001    1.7e-09  -1.5e-10  -1.4e-10  -5.2e-11  \n",
       "alpha_0.01     1.1e-09   4.3e-11  -3.1e-11  -1.5e-11  \n",
       "alpha_1        2.4e-10   6.2e-11   1.4e-11   3.2e-12  \n",
       "alpha_5       -1.3e-10    -2e-11    -3e-12  -4.2e-13  \n",
       "alpha_10      -1.6e-10  -2.9e-11  -5.1e-12  -9.1e-13  \n",
       "alpha_20      -1.4e-10  -2.5e-11  -4.7e-12  -8.7e-13  "
      ]
     },
     "execution_count": 60,
     "metadata": {},
     "output_type": "execute_result"
    }
   ],
   "source": [
    "#Set the display format to be scientific for ease of analysis\n",
    "pd.options.display.float_format = '{:,.2g}'.format\n",
    "coef_matrix_ridge"
   ]
  },
  {
   "cell_type": "code",
   "execution_count": 61,
   "metadata": {
    "collapsed": false
   },
   "outputs": [
    {
     "data": {
      "text/plain": [
       "alpha_1e-15     0\n",
       "alpha_1e-10     0\n",
       "alpha_1e-08     0\n",
       "alpha_0.0001    0\n",
       "alpha_0.001     0\n",
       "alpha_0.01      0\n",
       "alpha_1         0\n",
       "alpha_5         0\n",
       "alpha_10        0\n",
       "alpha_20        0\n",
       "dtype: int64"
      ]
     },
     "execution_count": 61,
     "metadata": {},
     "output_type": "execute_result"
    }
   ],
   "source": [
    "coef_matrix_ridge.apply(lambda x: sum(x.values==0),axis=1)"
   ]
  },
  {
   "cell_type": "code",
   "execution_count": 62,
   "metadata": {
    "collapsed": true
   },
   "outputs": [],
   "source": [
    "from sklearn.linear_model import Lasso\n",
    "def lasso_regression(data, predictors, alpha, models_to_plot={}):\n",
    "    #Fit the model\n",
    "    lassoreg = Lasso(alpha=alpha,normalize=True, max_iter=1e5)\n",
    "    lassoreg.fit(data[predictors],data['y'])\n",
    "    y_pred = lassoreg.predict(data[predictors])\n",
    "    \n",
    "    #Check if a plot is to be made for the entered alpha\n",
    "    if alpha in models_to_plot:\n",
    "        plt.subplot(models_to_plot[alpha])\n",
    "        plt.tight_layout()\n",
    "        plt.plot(data['x'],y_pred)\n",
    "        plt.plot(data['x'],data['y'],'.')\n",
    "        plt.title('Plot for alpha: %.3g'%alpha)\n",
    "    \n",
    "    #Return the result in pre-defined format\n",
    "    rss = sum((y_pred-data['y'])**2)\n",
    "    ret = [rss]\n",
    "    ret.extend([lassoreg.intercept_])\n",
    "    ret.extend(lassoreg.coef_)\n",
    "    return ret"
   ]
  },
  {
   "cell_type": "code",
   "execution_count": 63,
   "metadata": {
    "collapsed": false
   },
   "outputs": [
    {
     "name": "stderr",
     "output_type": "stream",
     "text": [
      "/Users/jburchell/.virtualenvs/life-expectancy/lib/python2.7/site-packages/sklearn/linear_model/coordinate_descent.py:466: ConvergenceWarning: Objective did not converge. You might want to increase the number of iterations\n",
      "  ConvergenceWarning)\n"
     ]
    },
    {
     "data": {
      "image/png": "[encoded data removed]",
      "text/plain": [
       "<matplotlib.figure.Figure at 0x10df080d0>"
      ]
     },
     "metadata": {},
     "output_type": "display_data"
    }
   ],
   "source": [
    "#Initialize predictors to all 15 powers of x\n",
    "predictors=['x']\n",
    "predictors.extend(['x_%d'%i for i in range(2,16)])\n",
    "\n",
    "#Define the alpha values to test\n",
    "alpha_lasso = [1e-15, 1e-10, 1e-8, 1e-5,1e-4, 1e-3,1e-2, 1, 5, 10]\n",
    "\n",
    "#Initialize the dataframe to store coefficients\n",
    "col = ['rss','intercept'] + ['coef_x_%d'%i for i in range(1,16)]\n",
    "ind = ['alpha_%.2g'%alpha_lasso[i] for i in range(0,10)]\n",
    "coef_matrix_lasso = pd.DataFrame(index=ind, columns=col)\n",
    "\n",
    "#Define the models to plot\n",
    "models_to_plot = {1e-10:231, 1e-5:232,1e-4:233, 1e-3:234, 1e-2:235, 1:236}\n",
    "\n",
    "#Iterate over the 10 alpha values:\n",
    "for i in range(10):\n",
    "    coef_matrix_lasso.iloc[i,] = lasso_regression(data, predictors, alpha_lasso[i], models_to_plot)"
   ]
  },
  {
   "cell_type": "code",
   "execution_count": 74,
   "metadata": {
    "collapsed": false
   },
   "outputs": [
    {
     "data": {
      "text/plain": [
       "['AlcConsumption',\n",
       " 'Overweight',\n",
       " 'Cholesterol',\n",
       " 'BloodSugar',\n",
       " 'ImprovedWater',\n",
       " 'ImprovedSanitation',\n",
       " 'MaternalDeaths',\n",
       " 'UVRadiation',\n",
       " 'HomicideRate',\n",
       " 'TrafficDeaths',\n",
       " 'Tubercululosis',\n",
       " 'Suicide']"
      ]
     },
     "execution_count": 74,
     "metadata": {},
     "output_type": "execute_result"
    }
   ],
   "source": [
    "list(totaldf.columns.values)[2:]"
   ]
  },
  {
   "cell_type": "code",
   "execution_count": 75,
   "metadata": {
    "collapsed": true
   },
   "outputs": [],
   "source": [
    "totaldf.to_csv(\"Total life expectancy.csv\")"
   ]
  },
  {
   "cell_type": "code",
   "execution_count": null,
   "metadata": {
    "collapsed": true
   },
   "outputs": [],
   "source": []
  }
 ],
 "metadata": {
  "kernelspec": {
   "display_name": "Python 2",
   "language": "python",
   "name": "python2"
  },
  "language_info": {
   "codemirror_mode": {
    "name": "ipython",
    "version": 2
   },
   "file_extension": ".py",
   "mimetype": "text/x-python",
   "name": "python",
   "nbconvert_exporter": "python",
   "pygments_lexer": "ipython2",
   "version": "2.7.11"
  }
 },
 "nbformat": 4,
 "nbformat_minor": 0
}
